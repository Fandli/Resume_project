{
 "cells": [
  {
   "cell_type": "code",
   "execution_count": 1,
   "metadata": {},
   "outputs": [],
   "source": [
    "from selenium import webdriver\n",
    "from getpass import getpass\n",
    "from bs4 import BeautifulSoup \n",
    "import numpy as np\n",
    "import pandas as pd \n",
    "import time\n",
    "import os\n",
    "columns_new = ['ID','Evidenční číslo', 'Karta', 'Přijímač', 'Odebraná karta', 'Odebraný přijímač', 'Firma', 'Operator', 'Šéftechnik', 'Technik', 'Smlouva', 'Stav', 'Urgence', 'Volat znovu', 'Volat v', 'Aktivován', 'Vráceno Callcentru', 'Zrušeno', 'Duvod zrušení', 'Dokumenty', 'Ukončeno FLYER', 'Zaplaceno obchodníkovy', 'Zaplaceno všem', 'Datum zápisu', 'Datum přidělení', 'Domluvená montáž', 'Čas montáže', 'Fakturace', 'Proplaceno', 'Číslo faktury', 'Název kampaně', 'Kód kampaně', 'Plus freeSAT', 'Zdroj Plus freeSAT', 'HBO MaxPak', 'Zdroj HBO MaxPak', 'freeSAT HD', 'Zdroj freeSAT HD', 'Služba', 'Zdroj objednávky', 'Vybrat peníze', 'Cena instalace', 'Titul', 'Jméno', 'Příjmení', 'Rodné číslo', 'Občanský průkaz', 'IČO', 'Telefon 1', 'Telefon 2', 'Mobil', 'Email', 'Ulice', 'Číslo popisné', 'Číslo orientační', 'Město', 'PSČ','Poznámky']\n",
    "columns_to_drop = [  'Odebraná karta', 'Odebraný přijímač', 'Firma', 'Operator',   'Volat v',  'Zaplaceno obchodníkovy', 'Zaplaceno všem', 'Fakturace', 'Proplaceno', 'Číslo faktury',  'Služba', 'Vybrat peníze', 'Cena instalace', 'Občanský průkaz', 'IČO', 'Telefon 1', 'Telefon 2', 'Mobil', 'Email', 'Ulice', 'Číslo popisné', 'Číslo orientační', 'PSČ']\n",
    "\n",
    "#pandas time object \n",
    "columns_to_timestamp = ['Ukončeno FLYER', 'Datum přidělení', 'Domluvená montáž', 'Datum zápisu','Aktivován', 'Vráceno Callcentru', 'Zrušeno' ]\n",
    "def make_timestamp(df):\n",
    "    for i in columns_to_timestamp:\n",
    "        df[i] =  pd.to_datetime(df[i], dayfirst=True)"
   ]
  },
  {
   "cell_type": "markdown",
   "metadata": {},
   "source": [
    "# Merging DFs\n",
    "#### I was carefull so i scaped for parts "
   ]
  },
  {
   "cell_type": "code",
   "execution_count": null,
   "metadata": {},
   "outputs": [],
   "source": [
    "path = r\"C:\\Users\\fandl\\OneDrive\\Plocha\\merge\"\n",
    "files = [file for file in os.listdir(path) if not file.startswith('.')] # Ignore hidden files\n",
    "\n",
    "all_months_data = pd.DataFrame()\n",
    "\n",
    "for file in files:\n",
    "    current_data = pd.read_csv(path+\"/\"+file)\n",
    "    all_months_data = pd.concat([all_months_data, current_data])\n",
    "    \n",
    "all_months_data.to_csv(\"intersat_final_df.csv\", index=False)"
   ]
  },
  {
   "cell_type": "markdown",
   "metadata": {},
   "source": [
    "## Scraper_for_manual_use\n"
   ]
  },
  {
   "cell_type": "code",
   "execution_count": null,
   "metadata": {},
   "outputs": [],
   "source": [
    "#variables\n",
    "username = ****\n",
    "password = ****\n",
    "First_ID = 84279\n",
    "Last_ID =  84297\n",
    "#columns = ['Evidenční číslo', 'Karta', 'Přijímač', 'Odebraná karta', 'Odebraný přijímač', 'Firma', 'Operator', 'Šéftechnik', 'Technik', 'Smlouva', 'Stav', 'Urgence', 'Volat znovu', 'Volat v', 'Aktivován', 'Vráceno Callcentru', 'Zrušeno', 'Duvod zrušení', 'Dokumenty', 'Ukončeno FLYER', 'Zaplaceno obchodníkovy', 'Zaplaceno všem', 'Datum zápisu', 'Datum přidělení', 'Domluvená montáž', 'Čas montáže', 'Fakturace', 'Proplaceno', 'Číslo faktury', 'Název kampaně', 'Kód kampaně', 'Plus freeSAT', 'Zdroj Plus freeSAT', 'HBO MaxPak', 'Zdroj HBO MaxPak', 'freeSAT HD', 'Zdroj freeSAT HD', 'Služba', 'Zdroj objednávky', 'Vybrat peníze', 'Cena instalace', 'Titul', 'Jméno', 'Příjmení', 'Rodné číslo', 'Občanský průkaz', 'IČO', 'Telefon 1', 'Telefon 2', 'Mobil', 'Email', 'Ulice', 'Číslo popisné', 'Číslo orientační', 'Město', 'PSČ']\n",
    "\n",
    "#login to system\n",
    "driver = webdriver.Chrome(\"C:\\\\Users\\\\fandl\\\\webdriver\\\\chromedriver.exe\")\n",
    "driver.get(\"http://dth.inter-sat.cz/\")\n",
    "username_textbox = driver.find_element_by_name(\"username\")\n",
    "username_textbox.send_keys(username)\n",
    "password_textbox = driver.find_element_by_name(\"password\")\n",
    "password_textbox.send_keys(password)\n",
    "login_button = driver.find_element_by_name(\"login\").click()\n",
    "\n",
    "#opening dataframe\n",
    "\n",
    "df_general = pd.read_csv(r\"C:\\Users\\fandl\\OneDrive\\Plocha\\intersat_general16.csv\")\n",
    "\n",
    "#scraping data function from client detail\n",
    "# First table\n",
    "def scrap():\n",
    "    Client_detail = []\n",
    "    for p in range(1,42):\n",
    "        zapis = driver.find_elements_by_xpath(f'/html/body/div[4]/div/div[2]/div[1]/div/table/tbody/tr[{p}]/td[2]')\n",
    "        for i in range(1):\n",
    "            technik = zapis[i].text\n",
    "            Client_detail.append(technik)\n",
    "# Second table\n",
    "    for p in range(1,11):\n",
    "        zapis = driver.find_elements_by_xpath(f'/html/body/div[4]/div/div[2]/div[2]/div/table/tbody/tr[{p}]/td[2]')\n",
    "        for i in range(1):\n",
    "            technik = zapis[i].text\n",
    "            Client_detail.append(technik)\n",
    "# Třetí table            \n",
    "    for p in range(1,6):\n",
    "        zapis = driver.find_elements_by_xpath(f'/html/body/div[4]/div/div[2]/div[3]/div/table/tbody/tr[{p}]/td[2]')\n",
    "        for i in range(1):\n",
    "            technik = zapis[i].text\n",
    "            Client_detail.append(technik)\n",
    "    \n",
    "    zapis2 = driver.find_elements_by_xpath('//html/body/div[4]/div/div[2]/div[7]')\n",
    "    for i in range(1):\n",
    "        technik2 = zapis2[i].text\n",
    "        Client_detail.append(technik2)\n",
    "    return Client_detail\n",
    "\n",
    "#searching via db\n",
    "\n",
    "for i in range(First_ID, Last_ID+1 ):\n",
    "    #time.sleep(1)\n",
    "    Client_detail_1= []\n",
    "    Client_detail_1.append(i)\n",
    "    driver.get(f' http://dth.inter-sat.cz/client/detail/{i}')\n",
    "    GG = scrap()\n",
    "    Client_detail_final = Client_detail_1 + GG \n",
    "    df2 = pd.DataFrame([Client_detail_final], columns=columns_new, )\n",
    "    df_general = df_general.append(df2, ignore_index=True )\n",
    "    df_general.to_csv(r\"C:\\Users\\fandl\\OneDrive\\Plocha\\intersat_general16.csv\")\n",
    "    # print(Client_detail_final)\n",
    "\n",
    "\n",
    "\n",
    "#saving df\n",
    "\n",
    "#close broswer\n",
    "print(\"hotovo\")\n",
    "driver.quit()"
   ]
  },
  {
   "cell_type": "code",
   "execution_count": 9,
   "metadata": {},
   "outputs": [],
   "source": [
    "df_general.to_csv(r\"C:\\Users\\fandl\\OneDrive\\Plocha\\intersat_general4.csv\")"
   ]
  },
  {
   "cell_type": "markdown",
   "metadata": {},
   "source": [
    "# Make clear dataframe "
   ]
  },
  {
   "cell_type": "code",
   "execution_count": 5,
   "metadata": {},
   "outputs": [
    {
     "name": "stdout",
     "output_type": "stream",
     "text": [
      "Empty DataFrame\n",
      "Columns: [ID, Evidenční číslo, Karta, Přijímač, Odebraná karta, Odebraný přijímač, Firma, Operator, Šéftechnik, Technik, Smlouva, Stav, Urgence, Volat znovu, Volat v, Aktivován, Vráceno Callcentru, Zrušeno, Duvod zrušení, Dokumenty, Ukončeno FLYER, Zaplaceno obchodníkovy, Zaplaceno všem, Datum zápisu, Datum přidělení, Domluvená montáž, Čas montáže, Fakturace, Proplaceno, Číslo faktury, Název kampaně, Kód kampaně, Plus freeSAT, Zdroj Plus freeSAT, HBO MaxPak, Zdroj HBO MaxPak, freeSAT HD, Zdroj freeSAT HD, Služba, Zdroj objednávky, Vybrat peníze, Cena instalace, Titul, Jméno, Příjmení, Rodné číslo, Občanský průkaz, IČO, Telefon 1, Telefon 2, Mobil, Email, Ulice, Číslo popisné, Číslo orientační, Město, PSČ, Poznámky]\n",
      "Index: []\n",
      "\n",
      "[0 rows x 58 columns]\n"
     ]
    }
   ],
   "source": [
    "df = pd.DataFrame( columns = columns_new)\n",
    "df.to_csv(r\"C:\\Users\\fandl\\OneDrive\\Plocha\\intersat_general16.csv\", index = False)\n",
    "print (df.head())"
   ]
  },
  {
   "cell_type": "markdown",
   "metadata": {},
   "source": [
    "# Show overlook of df"
   ]
  },
  {
   "cell_type": "code",
   "execution_count": 3,
   "metadata": {},
   "outputs": [
    {
     "name": "stdout",
     "output_type": "stream",
     "text": [
      "Empty DataFrame\n",
      "Columns: [ID, Evidenční číslo, Karta, Přijímač, Odebraná karta, Odebraný přijímač, Firma, Operator, Šéftechnik, Technik, Smlouva, Stav, Urgence, Volat znovu, Volat v, Aktivován, Vráceno Callcentru, Zrušeno, Duvod zrušení, Dokumenty, Ukončeno FLYER, Zaplaceno obchodníkovy, Zaplaceno všem, Datum zápisu, Datum přidělení, Domluvená montáž, Čas montáže, Fakturace, Proplaceno, Číslo faktury, Název kampaně, Kód kampaně, Plus freeSAT, Zdroj Plus freeSAT, HBO MaxPak, Zdroj HBO MaxPak, freeSAT HD, Zdroj freeSAT HD, Služba, Zdroj objednávky, Vybrat peníze, Cena instalace, Titul, Jméno, Příjmení, Rodné číslo, Občanský průkaz, IČO, Telefon 1, Telefon 2, Mobil, Email, Ulice, Číslo popisné, Číslo orientační, Město, PSČ, Poznámky]\n",
      "Index: []\n",
      "\n",
      "[0 rows x 58 columns] (0, 58) Index(['ID', 'Evidenční číslo', 'Karta', 'Přijímač', 'Odebraná karta',\n",
      "       'Odebraný přijímač', 'Firma', 'Operator', 'Šéftechnik', 'Technik',\n",
      "       'Smlouva', 'Stav', 'Urgence', 'Volat znovu', 'Volat v', 'Aktivován',\n",
      "       'Vráceno Callcentru', 'Zrušeno', 'Duvod zrušení', 'Dokumenty',\n",
      "       'Ukončeno FLYER', 'Zaplaceno obchodníkovy', 'Zaplaceno všem',\n",
      "       'Datum zápisu', 'Datum přidělení', 'Domluvená montáž', 'Čas montáže',\n",
      "       'Fakturace', 'Proplaceno', 'Číslo faktury', 'Název kampaně',\n",
      "       'Kód kampaně', 'Plus freeSAT', 'Zdroj Plus freeSAT', 'HBO MaxPak',\n",
      "       'Zdroj HBO MaxPak', 'freeSAT HD', 'Zdroj freeSAT HD', 'Služba',\n",
      "       'Zdroj objednávky', 'Vybrat peníze', 'Cena instalace', 'Titul', 'Jméno',\n",
      "       'Příjmení', 'Rodné číslo', 'Občanský průkaz', 'IČO', 'Telefon 1',\n",
      "       'Telefon 2', 'Mobil', 'Email', 'Ulice', 'Číslo popisné',\n",
      "       'Číslo orientační', 'Město', 'PSČ', 'Poznámky'],\n",
      "      dtype='object')\n"
     ]
    },
    {
     "data": {
      "text/plain": [
       "ID                        0\n",
       "Evidenční číslo           0\n",
       "Karta                     0\n",
       "Přijímač                  0\n",
       "Odebraná karta            0\n",
       "Odebraný přijímač         0\n",
       "Firma                     0\n",
       "Operator                  0\n",
       "Šéftechnik                0\n",
       "Technik                   0\n",
       "Smlouva                   0\n",
       "Stav                      0\n",
       "Urgence                   0\n",
       "Volat znovu               0\n",
       "Volat v                   0\n",
       "Aktivován                 0\n",
       "Vráceno Callcentru        0\n",
       "Zrušeno                   0\n",
       "Duvod zrušení             0\n",
       "Dokumenty                 0\n",
       "Ukončeno FLYER            0\n",
       "Zaplaceno obchodníkovy    0\n",
       "Zaplaceno všem            0\n",
       "Datum zápisu              0\n",
       "Datum přidělení           0\n",
       "Domluvená montáž          0\n",
       "Čas montáže               0\n",
       "Fakturace                 0\n",
       "Proplaceno                0\n",
       "Číslo faktury             0\n",
       "Název kampaně             0\n",
       "Kód kampaně               0\n",
       "Plus freeSAT              0\n",
       "Zdroj Plus freeSAT        0\n",
       "HBO MaxPak                0\n",
       "Zdroj HBO MaxPak          0\n",
       "freeSAT HD                0\n",
       "Zdroj freeSAT HD          0\n",
       "Služba                    0\n",
       "Zdroj objednávky          0\n",
       "Vybrat peníze             0\n",
       "Cena instalace            0\n",
       "Titul                     0\n",
       "Jméno                     0\n",
       "Příjmení                  0\n",
       "Rodné číslo               0\n",
       "Občanský průkaz           0\n",
       "IČO                       0\n",
       "Telefon 1                 0\n",
       "Telefon 2                 0\n",
       "Mobil                     0\n",
       "Email                     0\n",
       "Ulice                     0\n",
       "Číslo popisné             0\n",
       "Číslo orientační          0\n",
       "Město                     0\n",
       "PSČ                       0\n",
       "Poznámky                  0\n",
       "dtype: int64"
      ]
     },
     "execution_count": 3,
     "metadata": {},
     "output_type": "execute_result"
    }
   ],
   "source": [
    "df_general = pd.read_csv(r\"C:\\Users\\fandl\\OneDrive\\Plocha\\intersat_general16.csv\")\n",
    "print(df_general.tail(), df_general.shape, df_general.columns)\n",
    "df_general.isna().sum()"
   ]
  },
  {
   "cell_type": "code",
   "execution_count": 8,
   "metadata": {},
   "outputs": [],
   "source": [
    "#saving clean df\n",
    "df_big.to_csv(r\"C:\\Users\\fandl\\OneDrive\\Plocha\\intersat_general3_clean.csv\")"
   ]
  },
  {
   "cell_type": "markdown",
   "metadata": {},
   "source": [
    "## Old_merging_dfs\n"
   ]
  },
  {
   "cell_type": "code",
   "execution_count": null,
   "metadata": {},
   "outputs": [],
   "source": [
    "df_A = pd.read_csv(r\"C:\\Users\\fandl\\OneDrive\\Plocha\\intersat_big_big.csv\")\n",
    "df_B = pd.read_csv(r\"C:\\Users\\fandl\\OneDrive\\Plocha\\intersat_general3_clean.csv\")\n",
    "\n",
    "df_marge = df_B.append(df_A, ignore_index=True)\n",
    "df_marge = df_marge.set_index('ID')\n",
    "#df_marge = df_marge.sort_index\n",
    "print(df_marge)"
   ]
  },
  {
   "cell_type": "code",
   "execution_count": 3,
   "metadata": {},
   "outputs": [],
   "source": [
    "df_marge.to_csv(r\"C:\\Users\\fandl\\OneDrive\\Plocha\\intersat_big_big2.csv\")\n"
   ]
  },
  {
   "cell_type": "markdown",
   "metadata": {},
   "source": [
    "# Automated_scraper \n",
    "### it scraps 150 newest rows"
   ]
  },
  {
   "cell_type": "code",
   "execution_count": 5,
   "metadata": {},
   "outputs": [
    {
     "name": "stdout",
     "output_type": "stream",
     "text": [
      "84475\n",
      "hotovo\n"
     ]
    }
   ],
   "source": [
    "#scraper \n",
    "\n",
    "#variables\n",
    "username = ****\n",
    "password = ****\n",
    "# First_ID = 84279\n",
    "# Last_ID =  84297\n",
    "#columns = ['Evidenční číslo', 'Karta', 'Přijímač', 'Odebraná karta', 'Odebraný přijímač', 'Firma', 'Operator', 'Šéftechnik', 'Technik', 'Smlouva', 'Stav', 'Urgence', 'Volat znovu', 'Volat v', 'Aktivován', 'Vráceno Callcentru', 'Zrušeno', 'Duvod zrušení', 'Dokumenty', 'Ukončeno FLYER', 'Zaplaceno obchodníkovy', 'Zaplaceno všem', 'Datum zápisu', 'Datum přidělení', 'Domluvená montáž', 'Čas montáže', 'Fakturace', 'Proplaceno', 'Číslo faktury', 'Název kampaně', 'Kód kampaně', 'Plus freeSAT', 'Zdroj Plus freeSAT', 'HBO MaxPak', 'Zdroj HBO MaxPak', 'freeSAT HD', 'Zdroj freeSAT HD', 'Služba', 'Zdroj objednávky', 'Vybrat peníze', 'Cena instalace', 'Titul', 'Jméno', 'Příjmení', 'Rodné číslo', 'Občanský průkaz', 'IČO', 'Telefon 1', 'Telefon 2', 'Mobil', 'Email', 'Ulice', 'Číslo popisné', 'Číslo orientační', 'Město', 'PSČ']\n",
    "\n",
    "#login to system\n",
    "driver = webdriver.Chrome(\"C:\\\\Users\\\\fandl\\\\webdriver\\\\chromedriver.exe\")\n",
    "driver.get(\"http://dth.inter-sat.cz/\")\n",
    "username_textbox = driver.find_element_by_name(\"username\")\n",
    "username_textbox.send_keys(username)\n",
    "password_textbox = driver.find_element_by_name(\"password\")\n",
    "password_textbox.send_keys(password)\n",
    "login_button = driver.find_element_by_name(\"login\").click()\n",
    "\n",
    "\n",
    "#Finding_Last_ID\n",
    "driver.get(f'http://dth.inter-sat.cz/client/viewall/reset-filter/')\n",
    "Last_ID  = driver.find_elements_by_xpath(f'/html/body/div[4]/div/table/tbody/tr[1]/td[1]')\n",
    "for i in range(1):\n",
    "    Last_ID = Last_ID[i].text\n",
    "\n",
    "First_ID = Last_ID - 150          \n",
    "\n",
    "#opening dataframe\n",
    "\n",
    "df_general = pd.read_csv(r\"C:\\Users\\fandl\\OneDrive\\Plocha\\intersat_general16.csv\")\n",
    "def scrap():\n",
    "    Client_detail = []\n",
    "    for p in range(1,42):\n",
    "        zapis = driver.find_elements_by_xpath(f'/html/body/div[4]/div/div[2]/div[1]/div/table/tbody/tr[{p}]/td[2]')\n",
    "        for i in range(1):\n",
    "            technik = zapis[i].text\n",
    "            Client_detail.append(technik)\n",
    "# Second table\n",
    "    for p in range(1,11):\n",
    "        zapis = driver.find_elements_by_xpath(f'/html/body/div[4]/div/div[2]/div[2]/div/table/tbody/tr[{p}]/td[2]')\n",
    "        for i in range(1):\n",
    "            technik = zapis[i].text\n",
    "            Client_detail.append(technik)\n",
    "# Třetí table            \n",
    "    for p in range(1,6):\n",
    "        zapis = driver.find_elements_by_xpath(f'/html/body/div[4]/div/div[2]/div[3]/div/table/tbody/tr[{p}]/td[2]')\n",
    "        for i in range(1):\n",
    "            technik = zapis[i].text\n",
    "            Client_detail.append(technik)\n",
    "    \n",
    "    zapis2 = driver.find_elements_by_xpath('//html/body/div[4]/div/div[2]/div[7]')\n",
    "    for i in range(1):\n",
    "        technik2 = zapis2[i].text\n",
    "        Client_detail.append(technik2)\n",
    "    return Client_detail\n",
    "\n",
    "#searching via db\n",
    "try:\n",
    "    for i in range(First_ID, Last_ID+1 ):\n",
    "        #time.sleep(1)\n",
    "        Client_detail_1= []\n",
    "        Client_detail_1.append(i)\n",
    "        driver.get(f' http://dth.inter-sat.cz/client/detail/{i}')\n",
    "        GG = scrap()\n",
    "        Client_detail_final = Client_detail_1 + GG \n",
    "        df2 = pd.DataFrame([Client_detail_final], columns=columns_new, )\n",
    "        df_general = df_general.append(df2, ignore_index=True )\n",
    "        df_general.to_csv(r\"C:\\Users\\fandl\\OneDrive\\Plocha\\intersat_general16.csv\")\n",
    "    # print(Client_detail_final)\n",
    "except:\n",
    "    pass\n",
    "print(Last_ID)\n",
    "#saving df\n",
    "\n",
    "#close broswer\n",
    "print(\"hotovo\")\n",
    "# driver.quit()"
   ]
  },
  {
   "cell_type": "code",
   "execution_count": null,
   "metadata": {},
   "outputs": [],
   "source": []
  }
 ],
 "metadata": {
  "kernelspec": {
   "display_name": "Python 3",
   "language": "python",
   "name": "python3"
  },
  "language_info": {
   "codemirror_mode": {
    "name": "ipython",
    "version": 3
   },
   "file_extension": ".py",
   "mimetype": "text/x-python",
   "name": "python",
   "nbconvert_exporter": "python",
   "pygments_lexer": "ipython3",
   "version": "3.7.4"
  }
 },
 "nbformat": 4,
 "nbformat_minor": 4
}
