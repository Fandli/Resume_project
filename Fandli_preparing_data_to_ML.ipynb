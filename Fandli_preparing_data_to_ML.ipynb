{
 "cells": [
  {
   "cell_type": "code",
   "execution_count": 1,
   "metadata": {},
   "outputs": [],
   "source": [
    "import numpy as np\n",
    "import pandas as pd\n",
    "import matplotlib.pyplot as plt\n",
    "import seaborn as sns\n",
    "from matplotlib.pyplot import figure\n",
    "columns_to_timestamp = ['Ukončeno FLYER', 'Datum přidělení', 'Domluvená montáž', 'Datum zápisu','Aktivován', 'Vráceno Callcentru', 'Zrušeno', ]\n",
    "columns_to_drop = [ 'Plus freeSAT', 'Zdroj Plus freeSAT', 'HBO MaxPak', 'Zdroj HBO MaxPak', 'freeSAT HD', 'Zdroj freeSAT HD', 'Odebraná karta', 'Odebraný přijímač', 'Firma', 'Operator',   'Volat v',  'Zaplaceno obchodníkovy', 'Zaplaceno všem', 'Fakturace', 'Proplaceno', 'Číslo faktury',  'Služba', 'Vybrat peníze', 'Cena instalace', 'Občanský průkaz', 'IČO', 'Telefon 1', 'Telefon 2', 'Mobil', 'Email', 'Ulice', 'Číslo popisné', 'Číslo orientační', 'PSČ']\n",
    "\n",
    "def make_timestamp(df):\n",
    "    for i in columns_to_timestamp:\n",
    "        df[i] =  pd.to_datetime(df[i], dayfirst=True)\n",
    "    \n",
    "    \n",
    "# Merchants functions\n",
    "def Get_Rating(Merchant) :\n",
    "    dfA_cancled = df_all.loc[(df_all['Stav'] == 'Zrušen' ) & (df_all['Zdroj objednávky'] == Merchant)  ].count()['Kód kampaně']\n",
    "    dfA_flyer = df_all.loc[(df_all['Stav'] == 'Ukončeno FLYER'  ) & (df_all['Zdroj objednávky'] == Merchant )  ].count()['Kód kampaně']\n",
    "    Rating = dfA_flyer - dfA_cancled\n",
    "    return Rating\n",
    "\n",
    "def Get_Overallsales(Merchant) :\n",
    "    dfA_cancled = df_all.loc[(df_all['Stav'] == 'Zrušen' ) & (df_all['Zdroj objednávky'] == Merchant)  ].count()['Kód kampaně']\n",
    "    dfA_flyer = df_all.loc[(df_all['Stav'] == 'Ukončeno FLYER'  ) & (df_all['Zdroj objednávky'] == Merchant )  ].count()['Kód kampaně']\n",
    "    Overallsales = dfA_flyer + dfA_cancled\n",
    "    return Overallsales\n",
    "\n",
    "def Get_Probability(Merchant) :\n",
    "    dfA_cancled = df_all.loc[(df_all['Stav'] == 'Zrušen' ) & (df_all['Zdroj objednávky'] == Merchant)  ].count()['Kód kampaně']\n",
    "    dfA_flyer = df_all.loc[(df_all['Stav'] == 'Ukončeno FLYER'  ) & (df_all['Zdroj objednávky'] == Merchant )  ].count()['Kód kampaně']\n",
    "    if dfA_flyer == 0:\n",
    "        Probability = 0\n",
    "    else:    \n",
    "        Probability = dfA_flyer/(dfA_flyer + dfA_cancled)\n",
    "    return Probability\n",
    "\n",
    "#Customers functions\n",
    "def Age_from_birth_nuber(RC_test):\n",
    "    if RC_test.find('/') != -1:\n",
    "        year = RC_test[0:2]\n",
    "        month = RC_test[2:4]\n",
    "        day = RC_test[4:6]\n",
    "        year_of_birth = f'{day}.{month}.19{year}'\n",
    "    \n",
    "    elif RC_test.find('.') != -1 and len(RC_test) < 10:\n",
    "        year_of_birth = RC_test\n",
    "    else:\n",
    "        year_of_birth = 'NaN'\n",
    "    return year_of_birth\n",
    "\n",
    "def Get_gender(surname):\n",
    "    if surname.find('ova') != -1 or surname.find('ová') != -1 or surname.find('OVÁ') != -1 or surname.find('OVA') != -1 or surname.find('otná') != -1 or surname.find('OTNÁ') != -1 :\n",
    "        gender = True \n",
    "    elif surname == 'nan':\n",
    "        gender = 'nan'\n",
    "    else:\n",
    "        gender = False\n",
    "    return gender            "
   ]
  },
  {
   "cell_type": "code",
   "execution_count": 2,
   "metadata": {},
   "outputs": [
    {
     "name": "stderr",
     "output_type": "stream",
     "text": [
      "C:\\Users\\fandl\\Anaconda3\\lib\\site-packages\\IPython\\core\\interactiveshell.py:3058: DtypeWarning: Columns (47,50) have mixed types. Specify dtype option on import or set low_memory=False.\n",
      "  interactivity=interactivity, compiler=compiler, result=result)\n"
     ]
    },
    {
     "data": {
      "text/plain": [
       "(27106, 61)"
      ]
     },
     "execution_count": 2,
     "metadata": {},
     "output_type": "execute_result"
    }
   ],
   "source": [
    "#loading DF\n",
    "df_all = pd.read_csv('intersat_final_df.csv')\n",
    "make_timestamp(df_all)\n",
    "# df_all.columns\n",
    "df_all.shape"
   ]
  },
  {
   "cell_type": "code",
   "execution_count": 3,
   "metadata": {},
   "outputs": [
    {
     "name": "stdout",
     "output_type": "stream",
     "text": [
      "3\n",
      "2\n",
      "556\n",
      "27\n"
     ]
    }
   ],
   "source": [
    "df_all = df_all.set_index('ID')\n",
    "df_all = df_all.drop(columns=columns_to_drop)\n",
    "df_all = df_all.drop(columns=['Unnamed: 0', 'Unnamed: 0.1','Unnamed: 0.1.1'])\n",
    "df_all = df_all.sort_values(by=['ID'],ascending=False)\n",
    "\n",
    "#clearing DF of tests clients\n",
    "df_test1 = df_all.loc[(df_all['Jméno'] == 'TEST' )]\n",
    "print(df_test1['Stav'].count())\n",
    "df_all = df_all.drop(df_test1.index)\n",
    "\n",
    "df_test2 = df_all.loc[(df_all['Příjmení'] == 'TEST' )]\n",
    "print(df_test2['Stav'].count())\n",
    "df_all = df_all.drop(df_test2.index)\n",
    "\n",
    "#cleaning of duplicete rows by CRM\n",
    "df_duplicate = df_all.loc[(df_all['Duvod zrušení'] == 'Duplicitní záznam' )]\n",
    "df_all = df_all.drop(df_duplicate.index)\n",
    "print(df_duplicate['Stav'].count())\n",
    "\n",
    "#cleaning of empty merchant\n",
    "df_all.loc[df_all['Zdroj objednávky'].isna()  , \"Zdroj objednávky\"] = \"Unknow\"\n",
    "df_gg = df_all.loc[(df_all['Zdroj objednávky'] == 'Unknow')]\n",
    "print(df_gg['Zdroj objednávky'].count())\n",
    "\n"
   ]
  },
  {
   "cell_type": "code",
   "execution_count": 39,
   "metadata": {},
   "outputs": [
    {
     "data": {
      "text/plain": [
       "27"
      ]
     },
     "execution_count": 39,
     "metadata": {},
     "output_type": "execute_result"
    }
   ],
   "source": [
    "# df_dupe = df_all.loc[(df_all['Zdroj objednávky'].isna())]\n",
    "# df_gg = df_all\n",
    "\n",
    "# df_gg.loc[df_gg['Zdroj objednávky'].isna()  , \"Zdroj objednávky\"] = \"Unknow\"\n",
    "df_gg = df_all.loc[(df_all['Zdroj objednávky'] == 'Unknow')]\n",
    "\n",
    "df_gg['Zdroj objednávky'].count()"
   ]
  },
  {
   "cell_type": "code",
   "execution_count": 139,
   "metadata": {},
   "outputs": [
    {
     "data": {
      "text/plain": [
       "26377"
      ]
     },
     "execution_count": 139,
     "metadata": {},
     "output_type": "execute_result"
    }
   ],
   "source": [
    "gg = df_all['Titul'].isna().count() -  df_all['Titul'].count()\n",
    "gg"
   ]
  },
  {
   "cell_type": "code",
   "execution_count": 4,
   "metadata": {},
   "outputs": [
    {
     "name": "stdout",
     "output_type": "stream",
     "text": [
      "Wait for blessing of Omnissiah\n",
      "Praise the Machine God !!!!\n"
     ]
    }
   ],
   "source": [
    "#Making DF of merchants\n",
    "print('Wait for blessing of Omnissiah')\n",
    "List_of_merchants = df_all['Zdroj objednávky'].unique()\n",
    "Merchant_ratings = pd.DataFrame(data=List_of_merchants, columns = ['Merchant'])\n",
    "Merchant_ratings['Merchant_Rating'] = Merchant_ratings['Merchant'].apply(Get_Rating)\n",
    "Merchant_ratings['Merchant_Overall'] = Merchant_ratings['Merchant'].apply(Get_Overallsales)\n",
    "Merchant_ratings['Merchant_Probability'] = Merchant_ratings['Merchant'].apply(Get_Probability)\n",
    "Merchant_ratings['Merchant_Is_Relevant'] = Merchant_ratings['Merchant_Overall']>50\n",
    "Merchant_ratings = Merchant_ratings.rename(columns={\"Merchant\": \"Zdroj objednávky\"})\n",
    "print('Praise the Machine God !!!!')"
   ]
  },
  {
   "cell_type": "code",
   "execution_count": 108,
   "metadata": {},
   "outputs": [],
   "source": [
    "Merchant_ratings = Merchant_ratings.drop([15, 25])\n",
    "# df_gg2 = Merchant_ratings.loc[Merchant_ratings['Merchant_Probability']== 'NaN']\n",
    "Merchant_ratings.to_csv(\"intersat_finalmrdámivhave3.csv\", index=False)\n",
    "# df_gg2"
   ]
  },
  {
   "cell_type": "code",
   "execution_count": 6,
   "metadata": {},
   "outputs": [],
   "source": [
    "Merchant_ratings.to_csv(\"merchants_01.csv\", index=False) "
   ]
  },
  {
   "cell_type": "code",
   "execution_count": 5,
   "metadata": {},
   "outputs": [
    {
     "data": {
      "text/html": [
       "<div>\n",
       "<style scoped>\n",
       "    .dataframe tbody tr th:only-of-type {\n",
       "        vertical-align: middle;\n",
       "    }\n",
       "\n",
       "    .dataframe tbody tr th {\n",
       "        vertical-align: top;\n",
       "    }\n",
       "\n",
       "    .dataframe thead th {\n",
       "        text-align: right;\n",
       "    }\n",
       "</style>\n",
       "<table border=\"1\" class=\"dataframe\">\n",
       "  <thead>\n",
       "    <tr style=\"text-align: right;\">\n",
       "      <th></th>\n",
       "      <th>Zdroj objednávky</th>\n",
       "      <th>Merchant_Rating</th>\n",
       "      <th>Merchant_Overall</th>\n",
       "      <th>Merchant_Probability</th>\n",
       "      <th>Merchant_Is_Relevant</th>\n",
       "    </tr>\n",
       "  </thead>\n",
       "  <tbody>\n",
       "    <tr>\n",
       "      <td>0</td>\n",
       "      <td>Michal Krátký</td>\n",
       "      <td>495</td>\n",
       "      <td>1311</td>\n",
       "      <td>0.688787</td>\n",
       "      <td>True</td>\n",
       "    </tr>\n",
       "    <tr>\n",
       "      <td>1</td>\n",
       "      <td>Alexander Sabol</td>\n",
       "      <td>15</td>\n",
       "      <td>25</td>\n",
       "      <td>0.800000</td>\n",
       "      <td>False</td>\n",
       "    </tr>\n",
       "    <tr>\n",
       "      <td>2</td>\n",
       "      <td>By_JJ</td>\n",
       "      <td>490</td>\n",
       "      <td>1420</td>\n",
       "      <td>0.672535</td>\n",
       "      <td>True</td>\n",
       "    </tr>\n",
       "    <tr>\n",
       "      <td>3</td>\n",
       "      <td>By_RP</td>\n",
       "      <td>-74</td>\n",
       "      <td>232</td>\n",
       "      <td>0.340517</td>\n",
       "      <td>True</td>\n",
       "    </tr>\n",
       "    <tr>\n",
       "      <td>4</td>\n",
       "      <td>By_PP</td>\n",
       "      <td>105</td>\n",
       "      <td>497</td>\n",
       "      <td>0.605634</td>\n",
       "      <td>True</td>\n",
       "    </tr>\n",
       "    <tr>\n",
       "      <td>5</td>\n",
       "      <td>By_IN</td>\n",
       "      <td>50</td>\n",
       "      <td>384</td>\n",
       "      <td>0.565104</td>\n",
       "      <td>True</td>\n",
       "    </tr>\n",
       "    <tr>\n",
       "      <td>6</td>\n",
       "      <td>Vazac call3 FREE</td>\n",
       "      <td>1188</td>\n",
       "      <td>4526</td>\n",
       "      <td>0.631242</td>\n",
       "      <td>True</td>\n",
       "    </tr>\n",
       "    <tr>\n",
       "      <td>7</td>\n",
       "      <td>Rostislav Varmuža</td>\n",
       "      <td>7</td>\n",
       "      <td>9</td>\n",
       "      <td>0.888889</td>\n",
       "      <td>False</td>\n",
       "    </tr>\n",
       "    <tr>\n",
       "      <td>8</td>\n",
       "      <td>Ivo Zeman</td>\n",
       "      <td>10</td>\n",
       "      <td>10</td>\n",
       "      <td>1.000000</td>\n",
       "      <td>False</td>\n",
       "    </tr>\n",
       "    <tr>\n",
       "      <td>9</td>\n",
       "      <td>Milan Chludil</td>\n",
       "      <td>3</td>\n",
       "      <td>3</td>\n",
       "      <td>1.000000</td>\n",
       "      <td>False</td>\n",
       "    </tr>\n",
       "    <tr>\n",
       "      <td>10</td>\n",
       "      <td>Jiří Komárek</td>\n",
       "      <td>1</td>\n",
       "      <td>1</td>\n",
       "      <td>1.000000</td>\n",
       "      <td>False</td>\n",
       "    </tr>\n",
       "    <tr>\n",
       "      <td>11</td>\n",
       "      <td>By_JH</td>\n",
       "      <td>-29</td>\n",
       "      <td>605</td>\n",
       "      <td>0.476033</td>\n",
       "      <td>True</td>\n",
       "    </tr>\n",
       "    <tr>\n",
       "      <td>12</td>\n",
       "      <td>Pavel Poslední</td>\n",
       "      <td>55</td>\n",
       "      <td>57</td>\n",
       "      <td>0.982456</td>\n",
       "      <td>True</td>\n",
       "    </tr>\n",
       "    <tr>\n",
       "      <td>13</td>\n",
       "      <td>Jan Kortan</td>\n",
       "      <td>58</td>\n",
       "      <td>64</td>\n",
       "      <td>0.953125</td>\n",
       "      <td>True</td>\n",
       "    </tr>\n",
       "    <tr>\n",
       "      <td>14</td>\n",
       "      <td>Jan Melo</td>\n",
       "      <td>91</td>\n",
       "      <td>99</td>\n",
       "      <td>0.959596</td>\n",
       "      <td>True</td>\n",
       "    </tr>\n",
       "    <tr>\n",
       "      <td>15</td>\n",
       "      <td>Tomáš Čaňo</td>\n",
       "      <td>0</td>\n",
       "      <td>0</td>\n",
       "      <td>0.000000</td>\n",
       "      <td>False</td>\n",
       "    </tr>\n",
       "    <tr>\n",
       "      <td>16</td>\n",
       "      <td>Vazac call2 FREE</td>\n",
       "      <td>92</td>\n",
       "      <td>914</td>\n",
       "      <td>0.550328</td>\n",
       "      <td>True</td>\n",
       "    </tr>\n",
       "    <tr>\n",
       "      <td>17</td>\n",
       "      <td>Stanislav Janoušek</td>\n",
       "      <td>79</td>\n",
       "      <td>83</td>\n",
       "      <td>0.975904</td>\n",
       "      <td>True</td>\n",
       "    </tr>\n",
       "    <tr>\n",
       "      <td>18</td>\n",
       "      <td>Pavel Mačát</td>\n",
       "      <td>26</td>\n",
       "      <td>26</td>\n",
       "      <td>1.000000</td>\n",
       "      <td>False</td>\n",
       "    </tr>\n",
       "    <tr>\n",
       "      <td>19</td>\n",
       "      <td>Zdeněk Řehoř</td>\n",
       "      <td>8</td>\n",
       "      <td>14</td>\n",
       "      <td>0.785714</td>\n",
       "      <td>False</td>\n",
       "    </tr>\n",
       "  </tbody>\n",
       "</table>\n",
       "</div>"
      ],
      "text/plain": [
       "      Zdroj objednávky  Merchant_Rating  Merchant_Overall  \\\n",
       "0        Michal Krátký              495              1311   \n",
       "1      Alexander Sabol               15                25   \n",
       "2                By_JJ              490              1420   \n",
       "3                By_RP              -74               232   \n",
       "4                By_PP              105               497   \n",
       "5                By_IN               50               384   \n",
       "6     Vazac call3 FREE             1188              4526   \n",
       "7    Rostislav Varmuža                7                 9   \n",
       "8            Ivo Zeman               10                10   \n",
       "9        Milan Chludil                3                 3   \n",
       "10        Jiří Komárek                1                 1   \n",
       "11               By_JH              -29               605   \n",
       "12      Pavel Poslední               55                57   \n",
       "13          Jan Kortan               58                64   \n",
       "14            Jan Melo               91                99   \n",
       "15          Tomáš Čaňo                0                 0   \n",
       "16    Vazac call2 FREE               92               914   \n",
       "17  Stanislav Janoušek               79                83   \n",
       "18         Pavel Mačát               26                26   \n",
       "19        Zdeněk Řehoř                8                14   \n",
       "\n",
       "    Merchant_Probability  Merchant_Is_Relevant  \n",
       "0               0.688787                  True  \n",
       "1               0.800000                 False  \n",
       "2               0.672535                  True  \n",
       "3               0.340517                  True  \n",
       "4               0.605634                  True  \n",
       "5               0.565104                  True  \n",
       "6               0.631242                  True  \n",
       "7               0.888889                 False  \n",
       "8               1.000000                 False  \n",
       "9               1.000000                 False  \n",
       "10              1.000000                 False  \n",
       "11              0.476033                  True  \n",
       "12              0.982456                  True  \n",
       "13              0.953125                  True  \n",
       "14              0.959596                  True  \n",
       "15              0.000000                 False  \n",
       "16              0.550328                  True  \n",
       "17              0.975904                  True  \n",
       "18              1.000000                 False  \n",
       "19              0.785714                 False  "
      ]
     },
     "execution_count": 5,
     "metadata": {},
     "output_type": "execute_result"
    }
   ],
   "source": [
    "Merchant_ratings.head(20)"
   ]
  },
  {
   "cell_type": "code",
   "execution_count": null,
   "metadata": {},
   "outputs": [],
   "source": [
    "df_2_tv = df_all.loc[df_all['Příjmení'].duplicated() & (df_all['Kód kampaně'] == '2box')][['Příjmení','Kód kampaně',]]\n",
    "# df_duplicated[['Příjmení','Kód kampaně',]].duplicated()#.count()\n",
    "# df_2_tv\n",
    "df_3_tv = df_2_tv.loc[df_2_tv.duplicated()]\n",
    "df_3_tv"
   ]
  },
  {
   "cell_type": "code",
   "execution_count": null,
   "metadata": {},
   "outputs": [],
   "source": [
    "df_gg = df_all.loc[df_all['Příjmení']== 'Wimmer']\n",
    "df_gg"
   ]
  },
  {
   "cell_type": "code",
   "execution_count": 73,
   "metadata": {},
   "outputs": [
    {
     "data": {
      "text/plain": [
       "Ukončeno FLYER        15874\n",
       "Zrušen                10558\n",
       "Vráceno callcentru      353\n",
       "Volat znovu             136\n",
       "Aktivován                89\n",
       "Domluvená montáž         58\n",
       "Verifikován              29\n",
       "Nekontaktován             4\n",
       "Name: Stav, dtype: int64"
      ]
     },
     "execution_count": 73,
     "metadata": {},
     "output_type": "execute_result"
    }
   ],
   "source": [
    "df_all['Stav'].value_counts()"
   ]
  },
  {
   "cell_type": "code",
   "execution_count": null,
   "metadata": {},
   "outputs": [],
   "source": [
    "df_test = df_all()"
   ]
  },
  {
   "cell_type": "code",
   "execution_count": null,
   "metadata": {},
   "outputs": [],
   "source": [
    "df_all.isna().sum()"
   ]
  },
  {
   "cell_type": "code",
   "execution_count": 104,
   "metadata": {},
   "outputs": [
    {
     "data": {
      "text/html": [
       "<div>\n",
       "<style scoped>\n",
       "    .dataframe tbody tr th:only-of-type {\n",
       "        vertical-align: middle;\n",
       "    }\n",
       "\n",
       "    .dataframe tbody tr th {\n",
       "        vertical-align: top;\n",
       "    }\n",
       "\n",
       "    .dataframe thead th {\n",
       "        text-align: right;\n",
       "    }\n",
       "</style>\n",
       "<table border=\"1\" class=\"dataframe\">\n",
       "  <thead>\n",
       "    <tr style=\"text-align: right;\">\n",
       "      <th></th>\n",
       "      <th>Zdroj objednávky</th>\n",
       "      <th>Dokumenty</th>\n",
       "      <th>Jméno</th>\n",
       "      <th>Příjmení</th>\n",
       "      <th>Rodné číslo</th>\n",
       "      <th>Město</th>\n",
       "      <th>Titul</th>\n",
       "      <th>Kód kampaně</th>\n",
       "      <th>Stav</th>\n",
       "      <th>gender</th>\n",
       "      <th>Datum narození</th>\n",
       "      <th>věk</th>\n",
       "    </tr>\n",
       "    <tr>\n",
       "      <th>ID</th>\n",
       "      <th></th>\n",
       "      <th></th>\n",
       "      <th></th>\n",
       "      <th></th>\n",
       "      <th></th>\n",
       "      <th></th>\n",
       "      <th></th>\n",
       "      <th></th>\n",
       "      <th></th>\n",
       "      <th></th>\n",
       "      <th></th>\n",
       "      <th></th>\n",
       "    </tr>\n",
       "  </thead>\n",
       "  <tbody>\n",
       "    <tr>\n",
       "      <td>83278</td>\n",
       "      <td>Michal Krátký</td>\n",
       "      <td>ne</td>\n",
       "      <td>Marie</td>\n",
       "      <td>Novotná</td>\n",
       "      <td>465529/136</td>\n",
       "      <td>Zliv</td>\n",
       "      <td>NaN</td>\n",
       "      <td>A_MBtv1</td>\n",
       "      <td>Ukončeno FLYER</td>\n",
       "      <td>True</td>\n",
       "      <td>NaT</td>\n",
       "      <td>NaN</td>\n",
       "    </tr>\n",
       "    <tr>\n",
       "      <td>83277</td>\n",
       "      <td>Michal Krátký</td>\n",
       "      <td>ne</td>\n",
       "      <td>Miroslav</td>\n",
       "      <td>Vojtíšek</td>\n",
       "      <td>820123/3579</td>\n",
       "      <td>Dvůr Králové nad Labem</td>\n",
       "      <td>NaN</td>\n",
       "      <td>A_MBtv2</td>\n",
       "      <td>Ukončeno FLYER</td>\n",
       "      <td>False</td>\n",
       "      <td>1982-01-23 00:00:00</td>\n",
       "      <td>38.0</td>\n",
       "    </tr>\n",
       "    <tr>\n",
       "      <td>83276</td>\n",
       "      <td>Michal Krátký</td>\n",
       "      <td>ne</td>\n",
       "      <td>Jaroslav</td>\n",
       "      <td>Kadič</td>\n",
       "      <td>821110/1811</td>\n",
       "      <td>Aš</td>\n",
       "      <td>NaN</td>\n",
       "      <td>A_MBtv1</td>\n",
       "      <td>Ukončeno FLYER</td>\n",
       "      <td>False</td>\n",
       "      <td>1982-11-10 00:00:00</td>\n",
       "      <td>38.0</td>\n",
       "    </tr>\n",
       "    <tr>\n",
       "      <td>83275</td>\n",
       "      <td>Michal Krátký</td>\n",
       "      <td>ne</td>\n",
       "      <td>Pavel</td>\n",
       "      <td>Čehovský</td>\n",
       "      <td>780623/4051</td>\n",
       "      <td>Břeclav</td>\n",
       "      <td>NaN</td>\n",
       "      <td>A_MBtv1</td>\n",
       "      <td>Ukončeno FLYER</td>\n",
       "      <td>False</td>\n",
       "      <td>1978-06-23 00:00:00</td>\n",
       "      <td>42.0</td>\n",
       "    </tr>\n",
       "    <tr>\n",
       "      <td>83274</td>\n",
       "      <td>Michal Krátký</td>\n",
       "      <td>ne</td>\n",
       "      <td>Michal</td>\n",
       "      <td>Mravec</td>\n",
       "      <td>nan</td>\n",
       "      <td>Karlín</td>\n",
       "      <td>NaN</td>\n",
       "      <td>servis</td>\n",
       "      <td>Ukončeno FLYER</td>\n",
       "      <td>False</td>\n",
       "      <td>NaT</td>\n",
       "      <td>NaN</td>\n",
       "    </tr>\n",
       "    <tr>\n",
       "      <td>83273</td>\n",
       "      <td>Michal Krátký</td>\n",
       "      <td>ne</td>\n",
       "      <td>Luděk</td>\n",
       "      <td>Horníček</td>\n",
       "      <td>660204/1160</td>\n",
       "      <td>Mikulčice</td>\n",
       "      <td>NaN</td>\n",
       "      <td>A_MBtv1</td>\n",
       "      <td>Ukončeno FLYER</td>\n",
       "      <td>False</td>\n",
       "      <td>1966-02-04 00:00:00</td>\n",
       "      <td>54.0</td>\n",
       "    </tr>\n",
       "    <tr>\n",
       "      <td>83272</td>\n",
       "      <td>Michal Krátký</td>\n",
       "      <td>ne</td>\n",
       "      <td>Monika</td>\n",
       "      <td>Vlčková</td>\n",
       "      <td>nan</td>\n",
       "      <td>Mikulov</td>\n",
       "      <td>NaN</td>\n",
       "      <td>servis</td>\n",
       "      <td>Ukončeno FLYER</td>\n",
       "      <td>True</td>\n",
       "      <td>NaT</td>\n",
       "      <td>NaN</td>\n",
       "    </tr>\n",
       "    <tr>\n",
       "      <td>83271</td>\n",
       "      <td>Alexander Sabol</td>\n",
       "      <td>ne</td>\n",
       "      <td>Katka</td>\n",
       "      <td>Zajícová</td>\n",
       "      <td>28.4.72</td>\n",
       "      <td>Sušno 33</td>\n",
       "      <td>NaN</td>\n",
       "      <td>Sky_S</td>\n",
       "      <td>Ukončeno FLYER</td>\n",
       "      <td>True</td>\n",
       "      <td>1972-04-28 00:00:00</td>\n",
       "      <td>48.0</td>\n",
       "    </tr>\n",
       "    <tr>\n",
       "      <td>83270</td>\n",
       "      <td>By_JJ</td>\n",
       "      <td>ne</td>\n",
       "      <td>Miroslav</td>\n",
       "      <td>Pojzl</td>\n",
       "      <td>nan</td>\n",
       "      <td>Křenovice u Slavkova/Vyškov/</td>\n",
       "      <td>NaN</td>\n",
       "      <td>Sky_S</td>\n",
       "      <td>Zrušen</td>\n",
       "      <td>False</td>\n",
       "      <td>NaT</td>\n",
       "      <td>NaN</td>\n",
       "    </tr>\n",
       "    <tr>\n",
       "      <td>83269</td>\n",
       "      <td>By_RP</td>\n",
       "      <td>ne</td>\n",
       "      <td>Milan</td>\n",
       "      <td>Chladil</td>\n",
       "      <td>nan</td>\n",
       "      <td>Lomnice(okres Brno-venkov)</td>\n",
       "      <td>NaN</td>\n",
       "      <td>2box</td>\n",
       "      <td>Ukončeno FLYER</td>\n",
       "      <td>False</td>\n",
       "      <td>NaT</td>\n",
       "      <td>NaN</td>\n",
       "    </tr>\n",
       "    <tr>\n",
       "      <td>83268</td>\n",
       "      <td>By_PP</td>\n",
       "      <td>ne</td>\n",
       "      <td>Marie</td>\n",
       "      <td>Stašková</td>\n",
       "      <td>nan</td>\n",
       "      <td>Blatná okr.Strakonice</td>\n",
       "      <td>NaN</td>\n",
       "      <td>Sky_S</td>\n",
       "      <td>Zrušen</td>\n",
       "      <td>True</td>\n",
       "      <td>NaT</td>\n",
       "      <td>NaN</td>\n",
       "    </tr>\n",
       "    <tr>\n",
       "      <td>83267</td>\n",
       "      <td>By_IN</td>\n",
       "      <td>ne</td>\n",
       "      <td>Oldřich</td>\n",
       "      <td>Stránský</td>\n",
       "      <td>20.1.1949</td>\n",
       "      <td>Buchlovice</td>\n",
       "      <td>NaN</td>\n",
       "      <td>Sky_S</td>\n",
       "      <td>Zrušen</td>\n",
       "      <td>False</td>\n",
       "      <td>1949-01-20 00:00:00</td>\n",
       "      <td>71.0</td>\n",
       "    </tr>\n",
       "    <tr>\n",
       "      <td>83266</td>\n",
       "      <td>By_PP</td>\n",
       "      <td>ne</td>\n",
       "      <td>Pavel</td>\n",
       "      <td>Bouzek</td>\n",
       "      <td>7504120338</td>\n",
       "      <td>Česticeokr.Strakonice</td>\n",
       "      <td>NaN</td>\n",
       "      <td>telly_2</td>\n",
       "      <td>Ukončeno FLYER</td>\n",
       "      <td>False</td>\n",
       "      <td>NaT</td>\n",
       "      <td>NaN</td>\n",
       "    </tr>\n",
       "    <tr>\n",
       "      <td>83265</td>\n",
       "      <td>Michal Krátký</td>\n",
       "      <td>ne</td>\n",
       "      <td>Jaroslav</td>\n",
       "      <td>Mašek</td>\n",
       "      <td>nan</td>\n",
       "      <td>Rudolfov</td>\n",
       "      <td>NaN</td>\n",
       "      <td>2box</td>\n",
       "      <td>Ukončeno FLYER</td>\n",
       "      <td>False</td>\n",
       "      <td>NaT</td>\n",
       "      <td>NaN</td>\n",
       "    </tr>\n",
       "    <tr>\n",
       "      <td>83264</td>\n",
       "      <td>Michal Krátký</td>\n",
       "      <td>ne</td>\n",
       "      <td>Jaroslav</td>\n",
       "      <td>Černý</td>\n",
       "      <td>nan</td>\n",
       "      <td>Trutnov</td>\n",
       "      <td>NaN</td>\n",
       "      <td>2box</td>\n",
       "      <td>Ukončeno FLYER</td>\n",
       "      <td>False</td>\n",
       "      <td>NaT</td>\n",
       "      <td>NaN</td>\n",
       "    </tr>\n",
       "    <tr>\n",
       "      <td>83263</td>\n",
       "      <td>By_RP</td>\n",
       "      <td>ne</td>\n",
       "      <td>Josef</td>\n",
       "      <td>Volmut</td>\n",
       "      <td>nan</td>\n",
       "      <td>Nišovice(okres Strakonice)</td>\n",
       "      <td>NaN</td>\n",
       "      <td>Sky_S2</td>\n",
       "      <td>Ukončeno FLYER</td>\n",
       "      <td>False</td>\n",
       "      <td>NaT</td>\n",
       "      <td>NaN</td>\n",
       "    </tr>\n",
       "    <tr>\n",
       "      <td>83262</td>\n",
       "      <td>Vazac call3 FREE</td>\n",
       "      <td>ne</td>\n",
       "      <td>Luboš</td>\n",
       "      <td>Kopřiva</td>\n",
       "      <td>nan</td>\n",
       "      <td>Pelhřimov</td>\n",
       "      <td>NaN</td>\n",
       "      <td>Sky_M2</td>\n",
       "      <td>Zrušen</td>\n",
       "      <td>False</td>\n",
       "      <td>NaT</td>\n",
       "      <td>NaN</td>\n",
       "    </tr>\n",
       "    <tr>\n",
       "      <td>83261</td>\n",
       "      <td>Vazac call3 FREE</td>\n",
       "      <td>ne</td>\n",
       "      <td>Zdeňka</td>\n",
       "      <td>Kinclová</td>\n",
       "      <td>nan</td>\n",
       "      <td>Velká Bíteš</td>\n",
       "      <td>NaN</td>\n",
       "      <td>A_MBtv1</td>\n",
       "      <td>Ukončeno FLYER</td>\n",
       "      <td>True</td>\n",
       "      <td>NaT</td>\n",
       "      <td>NaN</td>\n",
       "    </tr>\n",
       "    <tr>\n",
       "      <td>83260</td>\n",
       "      <td>Michal Krátký</td>\n",
       "      <td>ne</td>\n",
       "      <td>Irena</td>\n",
       "      <td>Rakašová</td>\n",
       "      <td>nan</td>\n",
       "      <td>Hradec Králové</td>\n",
       "      <td>NaN</td>\n",
       "      <td>Sky_S</td>\n",
       "      <td>Ukončeno FLYER</td>\n",
       "      <td>True</td>\n",
       "      <td>NaT</td>\n",
       "      <td>NaN</td>\n",
       "    </tr>\n",
       "    <tr>\n",
       "      <td>83259</td>\n",
       "      <td>Michal Krátký</td>\n",
       "      <td>ne</td>\n",
       "      <td>Vratislav</td>\n",
       "      <td>Ždímal</td>\n",
       "      <td>nan</td>\n",
       "      <td>Mašťov</td>\n",
       "      <td>NaN</td>\n",
       "      <td>Sky_M2</td>\n",
       "      <td>Ukončeno FLYER</td>\n",
       "      <td>False</td>\n",
       "      <td>NaT</td>\n",
       "      <td>NaN</td>\n",
       "    </tr>\n",
       "  </tbody>\n",
       "</table>\n",
       "</div>"
      ],
      "text/plain": [
       "       Zdroj objednávky Dokumenty      Jméno  Příjmení  Rodné číslo  \\\n",
       "ID                                                                    \n",
       "83278     Michal Krátký        ne      Marie   Novotná   465529/136   \n",
       "83277     Michal Krátký        ne   Miroslav  Vojtíšek  820123/3579   \n",
       "83276     Michal Krátký        ne   Jaroslav     Kadič  821110/1811   \n",
       "83275     Michal Krátký        ne      Pavel  Čehovský  780623/4051   \n",
       "83274     Michal Krátký        ne     Michal    Mravec          nan   \n",
       "83273     Michal Krátký        ne      Luděk  Horníček  660204/1160   \n",
       "83272     Michal Krátký        ne     Monika   Vlčková          nan   \n",
       "83271   Alexander Sabol        ne      Katka  Zajícová      28.4.72   \n",
       "83270             By_JJ        ne   Miroslav     Pojzl          nan   \n",
       "83269             By_RP        ne      Milan   Chladil          nan   \n",
       "83268             By_PP        ne      Marie  Stašková          nan   \n",
       "83267             By_IN        ne    Oldřich  Stránský    20.1.1949   \n",
       "83266             By_PP        ne      Pavel    Bouzek   7504120338   \n",
       "83265     Michal Krátký        ne   Jaroslav     Mašek          nan   \n",
       "83264     Michal Krátký        ne   Jaroslav     Černý          nan   \n",
       "83263             By_RP        ne      Josef    Volmut          nan   \n",
       "83262  Vazac call3 FREE        ne      Luboš   Kopřiva          nan   \n",
       "83261  Vazac call3 FREE        ne     Zdeňka  Kinclová          nan   \n",
       "83260     Michal Krátký        ne      Irena  Rakašová          nan   \n",
       "83259     Michal Krátký        ne  Vratislav    Ždímal          nan   \n",
       "\n",
       "                              Město Titul Kód kampaně            Stav gender  \\\n",
       "ID                                                                             \n",
       "83278                          Zliv   NaN     A_MBtv1  Ukončeno FLYER   True   \n",
       "83277        Dvůr Králové nad Labem   NaN     A_MBtv2  Ukončeno FLYER  False   \n",
       "83276                            Aš   NaN     A_MBtv1  Ukončeno FLYER  False   \n",
       "83275                       Břeclav   NaN     A_MBtv1  Ukončeno FLYER  False   \n",
       "83274                        Karlín   NaN      servis  Ukončeno FLYER  False   \n",
       "83273                     Mikulčice   NaN     A_MBtv1  Ukončeno FLYER  False   \n",
       "83272                       Mikulov   NaN      servis  Ukončeno FLYER   True   \n",
       "83271                      Sušno 33   NaN       Sky_S  Ukončeno FLYER   True   \n",
       "83270  Křenovice u Slavkova/Vyškov/   NaN       Sky_S          Zrušen  False   \n",
       "83269    Lomnice(okres Brno-venkov)   NaN        2box  Ukončeno FLYER  False   \n",
       "83268         Blatná okr.Strakonice   NaN       Sky_S          Zrušen   True   \n",
       "83267                    Buchlovice   NaN       Sky_S          Zrušen  False   \n",
       "83266         Česticeokr.Strakonice   NaN     telly_2  Ukončeno FLYER  False   \n",
       "83265                      Rudolfov   NaN        2box  Ukončeno FLYER  False   \n",
       "83264                       Trutnov   NaN        2box  Ukončeno FLYER  False   \n",
       "83263    Nišovice(okres Strakonice)   NaN      Sky_S2  Ukončeno FLYER  False   \n",
       "83262                     Pelhřimov   NaN      Sky_M2          Zrušen  False   \n",
       "83261                   Velká Bíteš   NaN     A_MBtv1  Ukončeno FLYER   True   \n",
       "83260                Hradec Králové   NaN       Sky_S  Ukončeno FLYER   True   \n",
       "83259                        Mašťov   NaN      Sky_M2  Ukončeno FLYER  False   \n",
       "\n",
       "            Datum narození   věk  \n",
       "ID                                \n",
       "83278                  NaT   NaN  \n",
       "83277  1982-01-23 00:00:00  38.0  \n",
       "83276  1982-11-10 00:00:00  38.0  \n",
       "83275  1978-06-23 00:00:00  42.0  \n",
       "83274                  NaT   NaN  \n",
       "83273  1966-02-04 00:00:00  54.0  \n",
       "83272                  NaT   NaN  \n",
       "83271  1972-04-28 00:00:00  48.0  \n",
       "83270                  NaT   NaN  \n",
       "83269                  NaT   NaN  \n",
       "83268                  NaT   NaN  \n",
       "83267  1949-01-20 00:00:00  71.0  \n",
       "83266                  NaT   NaN  \n",
       "83265                  NaT   NaN  \n",
       "83264                  NaT   NaN  \n",
       "83263                  NaT   NaN  \n",
       "83262                  NaT   NaN  \n",
       "83261                  NaT   NaN  \n",
       "83260                  NaT   NaN  \n",
       "83259                  NaT   NaN  "
      ]
     },
     "execution_count": 104,
     "metadata": {},
     "output_type": "execute_result"
    }
   ],
   "source": [
    "df_ML = df_all[['Zdroj objednávky','Dokumenty','Jméno', 'Příjmení', 'Rodné číslo', 'Město','Titul','Kód kampaně','Stav','Datum zápisu']].copy()\n",
    "#cleaning LABEL\n",
    "df_ML.loc[df_ML['Stav'] == \"Vráceno callcentru\" , \"Stav\"] = \"Zrušen\"\n",
    "df_ML.loc[df_ML['Stav'] == \"Nekontaktován\" , \"Stav\"] = \"Zrušen\"\n",
    "df_ML.loc[df_ML['Stav'] == \"Volat znovu\" , \"Stav\"] = \"Zrušen\"\n",
    "df_ML.loc[df_ML['Stav'] == \"Aktivován\" , \"Stav\"] = \"Ukončeno FLYER\"\n",
    "df_ML.loc[df_ML['Stav'] == \"Verifikován\" , \"Stav\"] = \"Ukončeno FLYER\"\n",
    "df_ML.loc[df_ML['Stav'] == \"Domluvená montáž\" , \"Stav\"] = \"Ukončeno FLYER\"\n",
    "#Gender\n",
    "df_ML['Příjmení'] = df_ML['Příjmení'].astype(str)\n",
    "df_ML['gender'] = df_ML['Příjmení'].apply(Get_gender)\n",
    "#Age\n",
    "df_ML['Rodné číslo'] = df_ML['Rodné číslo'].astype(str)\n",
    "df_ML['Datum narození'] = df_ML['Rodné číslo'].apply(Age_from_birth_nuber)\n",
    "df_ML['Datum narození'] =  pd.to_datetime(df_ML['Datum narození'], dayfirst=True, errors='coerce')\n",
    "df_ML['věk']= 2020 - df_ML['Datum narození'].dt.year\n",
    "df_ML.loc[(df_ML['věk'] < 0) ] = round(df_ML['věk'].mean())\n",
    "\n",
    "\n",
    "df_ML.head(20)\n",
    "# df_ML['věk'].mean()\n",
    "# df_ML['Stav'].value_counts()"
   ]
  },
  {
   "cell_type": "code",
   "execution_count": null,
   "metadata": {},
   "outputs": [],
   "source": [
    "df = pd.merge(df_ML, Merchant_ratings, on='Zdroj objednávky')\n",
    "df"
   ]
  },
  {
   "cell_type": "code",
   "execution_count": 106,
   "metadata": {},
   "outputs": [],
   "source": [
    "from sklearn.preprocessing import LabelEncoder\n",
    "from sklearn.preprocessing import Imputer\n",
    "le_city = LabelEncoder()\n",
    "le_code = LabelEncoder()\n",
    "le_gender = LabelEncoder()\n",
    "le_titul = LabelEncoder()\n",
    "le_stav = LabelEncoder()\n",
    "le_dokumenty = LabelEncoder()\n",
    "le_relevant = LabelEncoder()\n",
    "\n",
    "df['Město'] = df['Město'].astype(str)\n",
    "df['Kód kampaně'] = df['Kód kampaně'].astype(str)\n",
    "df['Titul'] = df['Titul'].astype(str)\n",
    "df['gender'] = df['gender'].astype(str)\n",
    "df['Stav'] = df['Stav'].astype(str)\n",
    "df['Dokumenty'] = df['Dokumenty'].astype(str)\n",
    "df['Merchant_Is_Relevant'] = df['Merchant_Is_Relevant'].astype(str)"
   ]
  },
  {
   "cell_type": "code",
   "execution_count": 107,
   "metadata": {},
   "outputs": [
    {
     "name": "stderr",
     "output_type": "stream",
     "text": [
      "C:\\Users\\fandl\\Anaconda3\\lib\\site-packages\\sklearn\\utils\\deprecation.py:66: DeprecationWarning: Class Imputer is deprecated; Imputer was deprecated in version 0.20 and will be removed in 0.22. Import impute.SimpleImputer from sklearn instead.\n",
      "  warnings.warn(msg, category=DeprecationWarning)\n"
     ]
    }
   ],
   "source": [
    "df['city_n'] = le_city.fit_transform(df['Město'])\n",
    "df['Kód kampaně_n'] = le_code.fit_transform(df['Kód kampaně'])\n",
    "df['gender_n'] = le_gender.fit_transform(df['gender'])\n",
    "df['Titul_n'] = le_titul.fit_transform(df['Titul'])\n",
    "df['Dokumenty_n'] = le_dokumenty.fit_transform(df['Dokumenty'])\n",
    "df['Stav_n'] = le_stav.fit_transform(df['Stav'])\n",
    "df['Merchant_Is_Relevant_n'] = le_relevant.fit_transform(df['Merchant_Is_Relevant'])\n",
    "\n",
    "\n",
    "imp = Imputer(strategy='mean')\n",
    "df['věk'] = imp.fit_transform(df['věk'].values.reshape(-1,1))\n",
    "df = df.round({'věk': 1, 'Merchant_Probability': 1})\n"
   ]
  },
  {
   "cell_type": "code",
   "execution_count": null,
   "metadata": {},
   "outputs": [],
   "source": [
    "df_gg = df.iloc[df['Merchant_Probability']== 'nan']\n",
    "df_gg"
   ]
  },
  {
   "cell_type": "code",
   "execution_count": 108,
   "metadata": {},
   "outputs": [],
   "source": [
    "df = df.drop(['Stav', 'Zdroj objednávky', 'Jméno','Merchant_Is_Relevant','Příjmení','Rodné číslo', 'Město','Titul','Kód kampaně', 'Stav','gender','Datum narození','Dokumenty'], axis = 1)\n",
    "# df = df.drop(['Merchant_Probability'], axis = 1)"
   ]
  },
  {
   "cell_type": "code",
   "execution_count": 148,
   "metadata": {},
   "outputs": [],
   "source": [
    "df\n",
    "df.to_csv(r\"C:\\Users\\fandl\\OneDrive\\Plocha\\intersat_final_ML3.csv\", index = False)"
   ]
  },
  {
   "cell_type": "code",
   "execution_count": 110,
   "metadata": {},
   "outputs": [],
   "source": [
    "T = df.shape[0]\n",
    "split = int(T*0.75)\n",
    "train_df = df.iloc[:split]\n",
    "test_df = df.iloc[split:]\n",
    "split_date = train_df.index[-1]"
   ]
  },
  {
   "cell_type": "code",
   "execution_count": null,
   "metadata": {},
   "outputs": [],
   "source": [
    "train_df.isna().count()"
   ]
  },
  {
   "cell_type": "code",
   "execution_count": 111,
   "metadata": {},
   "outputs": [],
   "source": [
    "X_train = train_df.loc[:, train_df.columns != 'Stav_n']\n",
    "y_train = train_df['Stav_n']#.values.reshape(-1,1)\n",
    "X_test = test_df.loc[:, test_df.columns != 'Stav_n']\n",
    "y_test = test_df['Stav_n']#.values.reshape(-1,1)"
   ]
  },
  {
   "cell_type": "code",
   "execution_count": 147,
   "metadata": {},
   "outputs": [
    {
     "data": {
      "text/plain": [
       "19905    1\n",
       "19906    1\n",
       "19907    1\n",
       "19908    1\n",
       "19909    0\n",
       "Name: Stav_n, dtype: int32"
      ]
     },
     "execution_count": 147,
     "metadata": {},
     "output_type": "execute_result"
    }
   ],
   "source": [
    "y_test.head()"
   ]
  },
  {
   "cell_type": "code",
   "execution_count": 69,
   "metadata": {},
   "outputs": [
    {
     "data": {
      "text/plain": [
       "0        0.7\n",
       "1        0.7\n",
       "2        0.7\n",
       "3        0.7\n",
       "4        0.7\n",
       "        ... \n",
       "20317    0.2\n",
       "20318    0.2\n",
       "20319    0.2\n",
       "20320    0.2\n",
       "20321    0.2\n",
       "Name: Merchant_Probability, Length: 20322, dtype: float64"
      ]
     },
     "execution_count": 69,
     "metadata": {},
     "output_type": "execute_result"
    }
   ],
   "source": [
    "X_train['Merchant_Probability']"
   ]
  },
  {
   "cell_type": "code",
   "execution_count": 67,
   "metadata": {},
   "outputs": [
    {
     "data": {
      "text/html": [
       "<div>\n",
       "<style scoped>\n",
       "    .dataframe tbody tr th:only-of-type {\n",
       "        vertical-align: middle;\n",
       "    }\n",
       "\n",
       "    .dataframe tbody tr th {\n",
       "        vertical-align: top;\n",
       "    }\n",
       "\n",
       "    .dataframe thead th {\n",
       "        text-align: right;\n",
       "    }\n",
       "</style>\n",
       "<table border=\"1\" class=\"dataframe\">\n",
       "  <thead>\n",
       "    <tr style=\"text-align: right;\">\n",
       "      <th></th>\n",
       "      <th>věk</th>\n",
       "      <th>Merchant_Rating</th>\n",
       "      <th>Merchant_Overall</th>\n",
       "      <th>Merchant_Probability</th>\n",
       "      <th>city_n</th>\n",
       "      <th>Kód kampaně_n</th>\n",
       "      <th>gender_n</th>\n",
       "      <th>Titul_n</th>\n",
       "      <th>Dokumenty_n</th>\n",
       "      <th>Merchant_Is_Relevant_n</th>\n",
       "    </tr>\n",
       "  </thead>\n",
       "  <tbody>\n",
       "  </tbody>\n",
       "</table>\n",
       "</div>"
      ],
      "text/plain": [
       "Empty DataFrame\n",
       "Columns: [věk, Merchant_Rating, Merchant_Overall, Merchant_Probability, city_n, Kód kampaně_n, gender_n, Titul_n, Dokumenty_n, Merchant_Is_Relevant_n]\n",
       "Index: []"
      ]
     },
     "execution_count": 67,
     "metadata": {},
     "output_type": "execute_result"
    }
   ],
   "source": [
    "df_gg = X_train.loc[X_train['Merchant_Probability']== 'nan']\n",
    "df_gg"
   ]
  },
  {
   "cell_type": "code",
   "execution_count": 144,
   "metadata": {},
   "outputs": [
    {
     "name": "stdout",
     "output_type": "stream",
     "text": [
      "Number of mislabeled points out of a total 6635 points : 2031\n",
      "69.38960060286361\n"
     ]
    }
   ],
   "source": [
    "from sklearn.model_selection import train_test_split\n",
    "from sklearn.naive_bayes import GaussianNB\n",
    "from sklearn.metrics import confusion_matrix, roc_curve, roc_auc_score\n",
    "\n",
    "\n",
    "gnb = GaussianNB()\n",
    "Model_G = gnb.fit(X_train, y_train)\n",
    "y_pred = Model_G.predict(X_test)\n",
    "y_pred_proba = Model_G.predict_proba(X_test)\n",
    "\n",
    "\n",
    "print(\"Number of mislabeled points out of a total %d points : %d\"\n",
    "       % (X_test.shape[0], (y_test != y_pred).sum()))\n",
    "\n",
    "A = X_test.shape[0]\n",
    "B = (y_test != y_pred).sum()\n",
    "succes_rate = 100-B/A*100\n",
    "print(succes_rate)"
   ]
  },
  {
   "cell_type": "code",
   "execution_count": 122,
   "metadata": {},
   "outputs": [
    {
     "data": {
      "text/plain": [
       "0.638131122833459"
      ]
     },
     "execution_count": 122,
     "metadata": {},
     "output_type": "execute_result"
    }
   ],
   "source": [
    "Model_G.score(X_train, y_train)"
   ]
  },
  {
   "cell_type": "code",
   "execution_count": 1,
   "metadata": {},
   "outputs": [
    {
     "ename": "NameError",
     "evalue": "name 'confusion_matrix' is not defined",
     "output_type": "error",
     "traceback": [
      "\u001b[1;31m---------------------------------------------------------------------------\u001b[0m",
      "\u001b[1;31mNameError\u001b[0m                                 Traceback (most recent call last)",
      "\u001b[1;32m<ipython-input-1-7777a2ffc288>\u001b[0m in \u001b[0;36m<module>\u001b[1;34m\u001b[0m\n\u001b[1;32m----> 1\u001b[1;33m \u001b[0mconfusion_matrix\u001b[0m\u001b[1;33m(\u001b[0m\u001b[0my_test\u001b[0m\u001b[1;33m,\u001b[0m \u001b[0my_pred_proba\u001b[0m\u001b[1;33m)\u001b[0m\u001b[1;33m\u001b[0m\u001b[1;33m\u001b[0m\u001b[0m\n\u001b[0m",
      "\u001b[1;31mNameError\u001b[0m: name 'confusion_matrix' is not defined"
     ]
    }
   ],
   "source": [
    "confusion_matrix(y_test, y_pred_proba)\n"
   ]
  },
  {
   "cell_type": "code",
   "execution_count": 133,
   "metadata": {},
   "outputs": [
    {
     "name": "stdout",
     "output_type": "stream",
     "text": [
      "Number of mislabeled points out of a total 6635 points : 2074\n",
      "69.38960060286361\n"
     ]
    }
   ],
   "source": [
    "from sklearn import tree\n",
    "model = tree.DecisionTreeClassifier()\n",
    "model = model.fit(X_train, y_train)\n",
    "y_predict_tree = model.predict(X_test)\n",
    "print(\"Number of mislabeled points out of a total %d points : %d\"\n",
    "       % (X_test.shape[0], (y_test != y_predict_tree).sum()))\n",
    "\n",
    "A = X_test.shape[0]\n",
    "B = (y_test != y_pred).sum()\n",
    "succes_rate = 100-B/A*100\n",
    "print(succes_rate)"
   ]
  },
  {
   "cell_type": "code",
   "execution_count": null,
   "metadata": {},
   "outputs": [],
   "source": [
    "y_predict_tree.val"
   ]
  },
  {
   "cell_type": "code",
   "execution_count": 140,
   "metadata": {},
   "outputs": [
    {
     "name": "stderr",
     "output_type": "stream",
     "text": [
      "C:\\Users\\fandl\\Anaconda3\\lib\\site-packages\\sklearn\\linear_model\\logistic.py:432: FutureWarning: Default solver will be changed to 'lbfgs' in 0.22. Specify a solver to silence this warning.\n",
      "  FutureWarning)\n"
     ]
    },
    {
     "data": {
      "text/plain": [
       "LogisticRegression(C=1.0, class_weight=None, dual=False, fit_intercept=True,\n",
       "                   intercept_scaling=1, l1_ratio=None, max_iter=100,\n",
       "                   multi_class='warn', n_jobs=None, penalty='l2',\n",
       "                   random_state=None, solver='warn', tol=0.0001, verbose=0,\n",
       "                   warm_start=False)"
      ]
     },
     "execution_count": 140,
     "metadata": {},
     "output_type": "execute_result"
    }
   ],
   "source": [
    "from sklearn.linear_model import LogisticRegression\n",
    "logreg = LogisticRegression()\n",
    "logreg.fit(X_train, y_train)"
   ]
  },
  {
   "cell_type": "code",
   "execution_count": 141,
   "metadata": {},
   "outputs": [],
   "source": [
    "pred_prob = logreg.predict_proba(X_test)\n",
    "y_hat = logreg.predict(X_test)"
   ]
  },
  {
   "cell_type": "code",
   "execution_count": 142,
   "metadata": {},
   "outputs": [
    {
     "data": {
      "text/plain": [
       "array([[3894,  258],\n",
       "       [1641,  842]], dtype=int64)"
      ]
     },
     "execution_count": 142,
     "metadata": {},
     "output_type": "execute_result"
    }
   ],
   "source": [
    "confusion_matrix(y_test, y_hat)"
   ]
  },
  {
   "cell_type": "code",
   "execution_count": 146,
   "metadata": {},
   "outputs": [
    {
     "data": {
      "image/png": "[encoded data removed]",
      "text/plain": [
       "<Figure size 432x288 with 1 Axes>"
      ]
     },
     "metadata": {
      "needs_background": "light"
     },
     "output_type": "display_data"
    }
   ],
   "source": [
    "fpr, tpr, thresholds = roc_curve(y_test, pred_prob[:, 1], )\n",
    "\n",
    "plt.plot(fpr, tpr, label='ROC curve')\n",
    "plt.plot(np.linspace(0,1,100), np.linspace(0,1,100), label='random model')\n",
    "plt.legend()\n",
    "plt.show()"
   ]
  },
  {
   "cell_type": "code",
   "execution_count": null,
   "metadata": {},
   "outputs": [],
   "source": [
    "# tree.plot_tree(model)"
   ]
  },
  {
   "cell_type": "code",
   "execution_count": 93,
   "metadata": {},
   "outputs": [
    {
     "name": "stdout",
     "output_type": "stream",
     "text": [
      "Ukončeno FLYER\n",
      "2016-12-31      10\n",
      "2017-01-31     109\n",
      "2017-02-28     111\n",
      "2017-03-31     123\n",
      "2017-04-30      49\n",
      "2017-05-31      76\n",
      "2017-06-30     111\n",
      "2017-07-31      83\n",
      "2017-08-31     120\n",
      "2017-09-30     145\n",
      "2017-10-31     252\n",
      "2017-11-30     471\n",
      "2017-12-31     420\n",
      "2018-01-31     423\n",
      "2018-02-28     465\n",
      "2018-03-31     509\n",
      "2018-04-30     539\n",
      "2018-05-31     562\n",
      "2018-06-30     446\n",
      "2018-07-31     380\n",
      "2018-08-31     464\n",
      "2018-09-30     557\n",
      "2018-10-31    1898\n",
      "2018-11-30     973\n",
      "2018-12-31     399\n",
      "2019-01-31     312\n",
      "2019-02-28     365\n",
      "2019-03-31     427\n",
      "2019-04-30     402\n",
      "2019-05-31     345\n",
      "2019-06-30     274\n",
      "2019-07-31     288\n",
      "2019-08-31     288\n",
      "2019-09-30     143\n",
      "2019-10-31     170\n",
      "2019-11-30     160\n",
      "2019-12-31     356\n",
      "2020-01-31     258\n",
      "2020-02-29     229\n",
      "2020-03-31     401\n",
      "2020-04-30     485\n",
      "2020-05-31     579\n",
      "2020-06-30     637\n",
      "Freq: M, Name: Stav, dtype: int64\n"
     ]
    },
    {
     "data": {
      "image/png": "[encoded data removed]",
      "text/plain": [
       "<Figure size 1200x480 with 1 Axes>"
      ]
     },
     "metadata": {},
     "output_type": "display_data"
    }
   ],
   "source": [
    "dfA = df_all\n",
    "figure(num=None, figsize=(15, 6), dpi=80, facecolor='w', edgecolor='k')\n",
    "#FLYER\n",
    "Overview_of_sales = dfA.loc[(dfA['Stav'] == 'Ukončeno FLYER' )]\n",
    "#key is difrent column that previus \"ukon4eno FLYER\"\n",
    "Overview_of_sales = Overview_of_sales.groupby(pd.Grouper(key='Ukončeno FLYER', freq=\"m\")).count()\n",
    "#slicing misstakes of merchants\n",
    "Overview_of_sales = Overview_of_sales['Stav'][35:-1]\n",
    "\n",
    "\n",
    "#making DF for linear regresion \n",
    "df_OS = Overview_of_sales.to_frame()\n",
    "# df_OS['months_from_start'] = (df_OS.index - df_OS.index[0]).days/30; df_OS \n",
    "# df_OS = df_OS.round(0)\n",
    "\n",
    "\n",
    "Overview_of_cancled = dfA.loc[(dfA['Stav'] == 'Zrušen' )].groupby(pd.Grouper(key='Zrušeno', freq=\"M\")).count()\n",
    "Overview_of_cancled = Overview_of_cancled['Stav'][:-1]\n",
    "\n",
    "plt.plot(Overview_of_sales, c='g', label='FLYER',)\n",
    "plt.plot(Overview_of_cancled, c='r',label='Zrušeno')\n",
    "plt.grid()\n",
    "plt.legend()\n",
    "print(Overview_of_sales)"
   ]
  },
  {
   "cell_type": "code",
   "execution_count": 94,
   "metadata": {},
   "outputs": [],
   "source": [
    "from fbprophet import Prophet\n",
    "df_OS = df_OS.reset_index()\n",
    "df_OS = df_OS.rename(columns={\"Stav\": \"y\",\"Ukončeno FLYER\": \"ds\"})\n",
    "# df_OS = df_OS.set_index('months_from_start')\n",
    "# df_OS = df_OS['months_from_start'] = index\n",
    "\n"
   ]
  },
  {
   "cell_type": "code",
   "execution_count": 101,
   "metadata": {},
   "outputs": [
    {
     "data": {
      "text/html": [
       "<div>\n",
       "<style scoped>\n",
       "    .dataframe tbody tr th:only-of-type {\n",
       "        vertical-align: middle;\n",
       "    }\n",
       "\n",
       "    .dataframe tbody tr th {\n",
       "        vertical-align: top;\n",
       "    }\n",
       "\n",
       "    .dataframe thead th {\n",
       "        text-align: right;\n",
       "    }\n",
       "</style>\n",
       "<table border=\"1\" class=\"dataframe\">\n",
       "  <thead>\n",
       "    <tr style=\"text-align: right;\">\n",
       "      <th></th>\n",
       "      <th>ds</th>\n",
       "      <th>y</th>\n",
       "    </tr>\n",
       "  </thead>\n",
       "  <tbody>\n",
       "    <tr>\n",
       "      <td>0</td>\n",
       "      <td>2016-12-31</td>\n",
       "      <td>10</td>\n",
       "    </tr>\n",
       "    <tr>\n",
       "      <td>23</td>\n",
       "      <td>2018-11-30</td>\n",
       "      <td>973</td>\n",
       "    </tr>\n",
       "  </tbody>\n",
       "</table>\n",
       "</div>"
      ],
      "text/plain": [
       "           ds    y\n",
       "0  2016-12-31   10\n",
       "23 2018-11-30  973"
      ]
     },
     "execution_count": 101,
     "metadata": {},
     "output_type": "execute_result"
    }
   ],
   "source": [
    "df_OS = df_OS[:39]\n",
    "df_OS = df_OS[::23]\n",
    "df_OS"
   ]
  },
  {
   "cell_type": "code",
   "execution_count": 99,
   "metadata": {},
   "outputs": [
    {
     "name": "stderr",
     "output_type": "stream",
     "text": [
      "INFO:fbprophet:Disabling weekly seasonality. Run prophet with weekly_seasonality=True to override this.\n",
      "INFO:fbprophet:Disabling daily seasonality. Run prophet with daily_seasonality=True to override this.\n"
     ]
    },
    {
     "data": {
      "text/plain": [
       "[<matplotlib.lines.Line2D at 0x1be01f5c548>]"
      ]
     },
     "execution_count": 99,
     "metadata": {},
     "output_type": "execute_result"
    },
    {
     "data": {
      "image/png": "[encoded data removed]",
      "text/plain": [
       "<Figure size 720x288 with 1 Axes>"
      ]
     },
     "metadata": {},
     "output_type": "display_data"
    }
   ],
   "source": [
    "m = Prophet(seasonality_mode='multiplicative')\n",
    "m.fit(df_OS)\n",
    "future = m.make_future_dataframe( periods=12, freq='M')\n",
    "forecast = m.predict(future)\n",
    "fig = m.plot(forecast)\n",
    "fig.set_size_inches(10,4)\n",
    "plt.plot(Overview_of_sales, c='g', label='FLYER',)\n"
   ]
  },
  {
   "cell_type": "code",
   "execution_count": 2,
   "metadata": {},
   "outputs": [
    {
     "ename": "NameError",
     "evalue": "name 'df_all' is not defined",
     "output_type": "error",
     "traceback": [
      "\u001b[1;31m---------------------------------------------------------------------------\u001b[0m",
      "\u001b[1;31mNameError\u001b[0m                                 Traceback (most recent call last)",
      "\u001b[1;32m<ipython-input-2-671f9e9136ba>\u001b[0m in \u001b[0;36m<module>\u001b[1;34m\u001b[0m\n\u001b[1;32m----> 1\u001b[1;33m \u001b[0mdfA\u001b[0m \u001b[1;33m=\u001b[0m \u001b[0mdf_all\u001b[0m\u001b[1;33m\u001b[0m\u001b[1;33m\u001b[0m\u001b[0m\n\u001b[0m\u001b[0;32m      2\u001b[0m \u001b[0mOverview_of_cancled\u001b[0m \u001b[1;33m=\u001b[0m \u001b[0mdfA\u001b[0m\u001b[1;33m.\u001b[0m\u001b[0mloc\u001b[0m\u001b[1;33m[\u001b[0m\u001b[1;33m(\u001b[0m\u001b[0mdfA\u001b[0m\u001b[1;33m[\u001b[0m\u001b[1;34m'Stav'\u001b[0m\u001b[1;33m]\u001b[0m \u001b[1;33m==\u001b[0m \u001b[1;34m'Zrušen'\u001b[0m \u001b[1;33m)\u001b[0m\u001b[1;33m]\u001b[0m\u001b[1;33m.\u001b[0m\u001b[0mgroupby\u001b[0m\u001b[1;33m(\u001b[0m\u001b[0mpd\u001b[0m\u001b[1;33m.\u001b[0m\u001b[0mGrouper\u001b[0m\u001b[1;33m(\u001b[0m\u001b[0mkey\u001b[0m\u001b[1;33m=\u001b[0m\u001b[1;34m'Zrušeno'\u001b[0m\u001b[1;33m,\u001b[0m \u001b[0mfreq\u001b[0m\u001b[1;33m=\u001b[0m\u001b[1;34m\"M\"\u001b[0m\u001b[1;33m)\u001b[0m\u001b[1;33m)\u001b[0m\u001b[1;33m.\u001b[0m\u001b[0mcount\u001b[0m\u001b[1;33m(\u001b[0m\u001b[1;33m)\u001b[0m\u001b[1;33m\u001b[0m\u001b[1;33m\u001b[0m\u001b[0m\n",
      "\u001b[1;31mNameError\u001b[0m: name 'df_all' is not defined"
     ]
    }
   ],
   "source": [
    "dfA = df_all\n",
    "Overview_of_cancled = dfA.loc[(dfA['Stav'] == 'Zrušen' )].groupby(pd.Grouper(key='Zrušeno', freq=\"M\")).count()"
   ]
  },
  {
   "cell_type": "code",
   "execution_count": null,
   "metadata": {},
   "outputs": [],
   "source": []
  }
 ],
 "metadata": {
  "kernelspec": {
   "display_name": "Python 3",
   "language": "python",
   "name": "python3"
  },
  "language_info": {
   "codemirror_mode": {
    "name": "ipython",
    "version": 3
   },
   "file_extension": ".py",
   "mimetype": "text/x-python",
   "name": "python",
   "nbconvert_exporter": "python",
   "pygments_lexer": "ipython3",
   "version": "3.7.4"
  }
 },
 "nbformat": 4,
 "nbformat_minor": 4
}
