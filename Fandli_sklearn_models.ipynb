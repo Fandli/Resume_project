{
 "cells": [
  {
   "cell_type": "code",
   "execution_count": 1,
   "metadata": {},
   "outputs": [],
   "source": [
    "import numpy as np\n",
    "import pandas as pd\n",
    "import matplotlib.pyplot as plt\n",
    "import seaborn as sns\n",
    "columns_to_timestamp = ['Ukončeno FLYER', 'Datum přidělení', 'Domluvená montáž', 'Datum zápisu','Aktivován', 'Vráceno Callcentru', 'Zrušeno', ]\n",
    "\n",
    "def make_timestamp(df):\n",
    "    for i in columns_to_timestamp:\n",
    "        df[i] =  pd.to_datetime(df[i], dayfirst=True)\n",
    "    "
   ]
  },
  {
   "cell_type": "markdown",
   "metadata": {},
   "source": [
    "## Loading_df with basic descriptive Statistic"
   ]
  },
  {
   "cell_type": "code",
   "execution_count": 2,
   "metadata": {},
   "outputs": [
    {
     "name": "stdout",
     "output_type": "stream",
     "text": [
      "Pozitivně ukončeno 16031 0.6040316503391108\n",
      "Negativně ukončeno 10509 0.39596834966088923\n"
     ]
    },
    {
     "data": {
      "image/png": "[encoded data removed]",
      "text/plain": [
       "<Figure size 432x288 with 1 Axes>"
      ]
     },
     "metadata": {
      "needs_background": "light"
     },
     "output_type": "display_data"
    },
    {
     "name": "stdout",
     "output_type": "stream",
     "text": [
      "(26540, 11)\n",
      "     věk  Merchant_Rating  Merchant_Overall  Merchant_Probability  city_n  \\\n",
      "0   57.0              495              1311                   0.7    5832   \n",
      "1   38.0              495              1311                   0.7    1054   \n",
      "2   38.0              495              1311                   0.7      41   \n",
      "3   42.0              495              1311                   0.7     523   \n",
      "4   57.0              495              1311                   0.7    1913   \n",
      "5   54.0              495              1311                   0.7    2891   \n",
      "6   57.0              495              1311                   0.7    2884   \n",
      "7   57.0              495              1311                   0.7    4512   \n",
      "8   57.0              495              1311                   0.7    5169   \n",
      "9   57.0              495              1311                   0.7    1477   \n",
      "10  57.0              495              1311                   0.7    2855   \n",
      "11  57.0              495              1311                   0.7    5808   \n",
      "12  73.0              495              1311                   0.7    5453   \n",
      "13  57.0              495              1311                   0.7    3287   \n",
      "14  57.0              495              1311                   0.7    5651   \n",
      "15  57.0              495              1311                   0.7    4720   \n",
      "16  53.0              495              1311                   0.7     146   \n",
      "17  57.0              495              1311                   0.7    2649   \n",
      "18  21.0              495              1311                   0.7    4720   \n",
      "19  57.0              495              1311                   0.7    5711   \n",
      "\n",
      "    Kód kampaně_n  gender_n  Titul_n  Dokumenty_n  Stav_n  \\\n",
      "0               3         1       30            1       0   \n",
      "1               4         0       30            1       0   \n",
      "2               3         0       30            1       0   \n",
      "3               3         0       30            1       0   \n",
      "4              33         0       30            1       0   \n",
      "5               3         0       30            1       0   \n",
      "6              33         1       30            1       0   \n",
      "7               0         0       30            1       0   \n",
      "8               0         0       30            1       0   \n",
      "9              27         1       30            1       0   \n",
      "10             26         0       30            1       0   \n",
      "11             27         1       30            1       1   \n",
      "12              0         0       30            1       0   \n",
      "13             27         0       30            1       1   \n",
      "14             27         0       30            1       0   \n",
      "15              3         1       30            1       0   \n",
      "16              3         0       30            1       1   \n",
      "17              3         0       30            1       0   \n",
      "18              4         0       30            1       1   \n",
      "19              0         0       30            1       0   \n",
      "\n",
      "    Merchant_Is_Relevant_n  \n",
      "0                        1  \n",
      "1                        1  \n",
      "2                        1  \n",
      "3                        1  \n",
      "4                        1  \n",
      "5                        1  \n",
      "6                        1  \n",
      "7                        1  \n",
      "8                        1  \n",
      "9                        1  \n",
      "10                       1  \n",
      "11                       1  \n",
      "12                       1  \n",
      "13                       1  \n",
      "14                       1  \n",
      "15                       1  \n",
      "16                       1  \n",
      "17                       1  \n",
      "18                       1  \n",
      "19                       1  \n"
     ]
    }
   ],
   "source": [
    "df = pd.read_csv(r\"C:\\Users\\fandl\\OneDrive\\Plocha\\intersat_final_ML3.csv\")\n",
    "\n",
    "Flayer = df['Stav_n'].value_counts().values[0]\n",
    "Zrušeno = df['Stav_n'].value_counts().values[1]\n",
    "\n",
    "def Kum (x,y):\n",
    "    gg = x/(x+y)\n",
    "    return gg\n",
    "    \n",
    "print('Pozitivně ukončeno',Flayer, Kum(Flayer,Zrušeno))\n",
    "print('Negativně ukončeno',Zrušeno, Kum(Zrušeno,Flayer))\n",
    "\n",
    "x = df['Stav_n'].value_counts().index\n",
    "states = df['Stav_n'].value_counts().values\n",
    "x_pos = [i for i, _ in enumerate(x)]\n",
    "plt.bar(x_pos, states, color='green')\n",
    "plt.title(\"Labels of df\")\n",
    "plt.xticks(x_pos, x)\n",
    "plt.show()\n",
    "print(df.shape)\n",
    "print(df.head(20))"
   ]
  },
  {
   "cell_type": "code",
   "execution_count": 3,
   "metadata": {},
   "outputs": [],
   "source": [
    "df_KM = df.drop(['Stav_n'],axis=1) "
   ]
  },
  {
   "cell_type": "code",
   "execution_count": 4,
   "metadata": {},
   "outputs": [
    {
     "data": {
      "text/html": [
       "<div>\n",
       "<style scoped>\n",
       "    .dataframe tbody tr th:only-of-type {\n",
       "        vertical-align: middle;\n",
       "    }\n",
       "\n",
       "    .dataframe tbody tr th {\n",
       "        vertical-align: top;\n",
       "    }\n",
       "\n",
       "    .dataframe thead th {\n",
       "        text-align: right;\n",
       "    }\n",
       "</style>\n",
       "<table border=\"1\" class=\"dataframe\">\n",
       "  <thead>\n",
       "    <tr style=\"text-align: right;\">\n",
       "      <th></th>\n",
       "      <th>věk</th>\n",
       "      <th>Merchant_Rating</th>\n",
       "      <th>Merchant_Overall</th>\n",
       "      <th>Merchant_Probability</th>\n",
       "      <th>city_n</th>\n",
       "      <th>Kód kampaně_n</th>\n",
       "      <th>gender_n</th>\n",
       "      <th>Titul_n</th>\n",
       "      <th>Dokumenty_n</th>\n",
       "      <th>Merchant_Is_Relevant_n</th>\n",
       "    </tr>\n",
       "  </thead>\n",
       "  <tbody>\n",
       "    <tr>\n",
       "      <td>0</td>\n",
       "      <td>57.0</td>\n",
       "      <td>495</td>\n",
       "      <td>1311</td>\n",
       "      <td>0.7</td>\n",
       "      <td>5832</td>\n",
       "      <td>3</td>\n",
       "      <td>1</td>\n",
       "      <td>30</td>\n",
       "      <td>1</td>\n",
       "      <td>1</td>\n",
       "    </tr>\n",
       "    <tr>\n",
       "      <td>1</td>\n",
       "      <td>38.0</td>\n",
       "      <td>495</td>\n",
       "      <td>1311</td>\n",
       "      <td>0.7</td>\n",
       "      <td>1054</td>\n",
       "      <td>4</td>\n",
       "      <td>0</td>\n",
       "      <td>30</td>\n",
       "      <td>1</td>\n",
       "      <td>1</td>\n",
       "    </tr>\n",
       "    <tr>\n",
       "      <td>2</td>\n",
       "      <td>38.0</td>\n",
       "      <td>495</td>\n",
       "      <td>1311</td>\n",
       "      <td>0.7</td>\n",
       "      <td>41</td>\n",
       "      <td>3</td>\n",
       "      <td>0</td>\n",
       "      <td>30</td>\n",
       "      <td>1</td>\n",
       "      <td>1</td>\n",
       "    </tr>\n",
       "    <tr>\n",
       "      <td>3</td>\n",
       "      <td>42.0</td>\n",
       "      <td>495</td>\n",
       "      <td>1311</td>\n",
       "      <td>0.7</td>\n",
       "      <td>523</td>\n",
       "      <td>3</td>\n",
       "      <td>0</td>\n",
       "      <td>30</td>\n",
       "      <td>1</td>\n",
       "      <td>1</td>\n",
       "    </tr>\n",
       "    <tr>\n",
       "      <td>4</td>\n",
       "      <td>57.0</td>\n",
       "      <td>495</td>\n",
       "      <td>1311</td>\n",
       "      <td>0.7</td>\n",
       "      <td>1913</td>\n",
       "      <td>33</td>\n",
       "      <td>0</td>\n",
       "      <td>30</td>\n",
       "      <td>1</td>\n",
       "      <td>1</td>\n",
       "    </tr>\n",
       "  </tbody>\n",
       "</table>\n",
       "</div>"
      ],
      "text/plain": [
       "    věk  Merchant_Rating  Merchant_Overall  Merchant_Probability  city_n  \\\n",
       "0  57.0              495              1311                   0.7    5832   \n",
       "1  38.0              495              1311                   0.7    1054   \n",
       "2  38.0              495              1311                   0.7      41   \n",
       "3  42.0              495              1311                   0.7     523   \n",
       "4  57.0              495              1311                   0.7    1913   \n",
       "\n",
       "   Kód kampaně_n  gender_n  Titul_n  Dokumenty_n  Merchant_Is_Relevant_n  \n",
       "0              3         1       30            1                       1  \n",
       "1              4         0       30            1                       1  \n",
       "2              3         0       30            1                       1  \n",
       "3              3         0       30            1                       1  \n",
       "4             33         0       30            1                       1  "
      ]
     },
     "execution_count": 4,
     "metadata": {},
     "output_type": "execute_result"
    }
   ],
   "source": [
    "df_KM.head()"
   ]
  },
  {
   "cell_type": "code",
   "execution_count": 5,
   "metadata": {},
   "outputs": [],
   "source": [
    "from sklearn.cluster import KMeans\n",
    "from sklearn.preprocessing import StandardScaler\n",
    "\n",
    "scaler = StandardScaler()\n",
    "X = df_KM.values\n",
    "X = scaler.fit_transform(X)\n",
    "\n",
    "# optimalni pocet clusteru\n",
    "Sum_of_squared_distances = []\n",
    "K = range(1,15)\n",
    "for k in K:\n",
    "    km = KMeans(n_clusters=k)\n",
    "    km = km.fit(X)\n",
    "    Sum_of_squared_distances.append(km.inertia_)"
   ]
  },
  {
   "cell_type": "code",
   "execution_count": 6,
   "metadata": {},
   "outputs": [
    {
     "data": {
      "image/png": "[encoded data removed]",
      "text/plain": [
       "<Figure size 432x288 with 1 Axes>"
      ]
     },
     "metadata": {
      "needs_background": "light"
     },
     "output_type": "display_data"
    }
   ],
   "source": [
    "plt.plot(K, Sum_of_squared_distances, 'bx-')\n",
    "plt.xlabel('k')\n",
    "plt.ylabel('Sum_of_squared_distances')\n",
    "plt.title('Elbow Method For Optimal k')\n",
    "plt.grid()"
   ]
  },
  {
   "cell_type": "code",
   "execution_count": 9,
   "metadata": {},
   "outputs": [],
   "source": [
    "km = KMeans(n_clusters=7)\n",
    "y_km = km.fit_predict(X)"
   ]
  },
  {
   "cell_type": "code",
   "execution_count": 16,
   "metadata": {},
   "outputs": [
    {
     "data": {
      "text/plain": [
       "(array([0, 1, 2, 3, 4, 5, 6, 7, 8, 9]),\n",
       " array([1108, 5517, 2053, 4561, 1519,  134, 2209, 3134, 1042, 5263],\n",
       "       dtype=int64))"
      ]
     },
     "execution_count": 16,
     "metadata": {},
     "output_type": "execute_result"
    }
   ],
   "source": [
    "np.unique(y_km, return_counts=True)"
   ]
  },
  {
   "cell_type": "code",
   "execution_count": 10,
   "metadata": {},
   "outputs": [
    {
     "data": {
      "text/html": [
       "<div>\n",
       "<style scoped>\n",
       "    .dataframe tbody tr th:only-of-type {\n",
       "        vertical-align: middle;\n",
       "    }\n",
       "\n",
       "    .dataframe tbody tr th {\n",
       "        vertical-align: top;\n",
       "    }\n",
       "\n",
       "    .dataframe thead th {\n",
       "        text-align: right;\n",
       "    }\n",
       "</style>\n",
       "<table border=\"1\" class=\"dataframe\">\n",
       "  <thead>\n",
       "    <tr style=\"text-align: right;\">\n",
       "      <th></th>\n",
       "      <th>věk</th>\n",
       "      <th>Merchant_Rating</th>\n",
       "      <th>Merchant_Overall</th>\n",
       "      <th>Merchant_Probability</th>\n",
       "      <th>city_n</th>\n",
       "      <th>Kód kampaně_n</th>\n",
       "      <th>gender_n</th>\n",
       "      <th>Titul_n</th>\n",
       "      <th>Dokumenty_n</th>\n",
       "      <th>Stav_n</th>\n",
       "      <th>Merchant_Is_Relevant_n</th>\n",
       "      <th>cluster</th>\n",
       "    </tr>\n",
       "  </thead>\n",
       "  <tbody>\n",
       "    <tr>\n",
       "      <td>0</td>\n",
       "      <td>57.0</td>\n",
       "      <td>495</td>\n",
       "      <td>1311</td>\n",
       "      <td>0.7</td>\n",
       "      <td>5832</td>\n",
       "      <td>3</td>\n",
       "      <td>1</td>\n",
       "      <td>30</td>\n",
       "      <td>1</td>\n",
       "      <td>0</td>\n",
       "      <td>1</td>\n",
       "      <td>1</td>\n",
       "    </tr>\n",
       "    <tr>\n",
       "      <td>1</td>\n",
       "      <td>38.0</td>\n",
       "      <td>495</td>\n",
       "      <td>1311</td>\n",
       "      <td>0.7</td>\n",
       "      <td>1054</td>\n",
       "      <td>4</td>\n",
       "      <td>0</td>\n",
       "      <td>30</td>\n",
       "      <td>1</td>\n",
       "      <td>0</td>\n",
       "      <td>1</td>\n",
       "      <td>1</td>\n",
       "    </tr>\n",
       "    <tr>\n",
       "      <td>2</td>\n",
       "      <td>38.0</td>\n",
       "      <td>495</td>\n",
       "      <td>1311</td>\n",
       "      <td>0.7</td>\n",
       "      <td>41</td>\n",
       "      <td>3</td>\n",
       "      <td>0</td>\n",
       "      <td>30</td>\n",
       "      <td>1</td>\n",
       "      <td>0</td>\n",
       "      <td>1</td>\n",
       "      <td>1</td>\n",
       "    </tr>\n",
       "    <tr>\n",
       "      <td>3</td>\n",
       "      <td>42.0</td>\n",
       "      <td>495</td>\n",
       "      <td>1311</td>\n",
       "      <td>0.7</td>\n",
       "      <td>523</td>\n",
       "      <td>3</td>\n",
       "      <td>0</td>\n",
       "      <td>30</td>\n",
       "      <td>1</td>\n",
       "      <td>0</td>\n",
       "      <td>1</td>\n",
       "      <td>1</td>\n",
       "    </tr>\n",
       "    <tr>\n",
       "      <td>4</td>\n",
       "      <td>57.0</td>\n",
       "      <td>495</td>\n",
       "      <td>1311</td>\n",
       "      <td>0.7</td>\n",
       "      <td>1913</td>\n",
       "      <td>33</td>\n",
       "      <td>0</td>\n",
       "      <td>30</td>\n",
       "      <td>1</td>\n",
       "      <td>0</td>\n",
       "      <td>1</td>\n",
       "      <td>3</td>\n",
       "    </tr>\n",
       "  </tbody>\n",
       "</table>\n",
       "</div>"
      ],
      "text/plain": [
       "    věk  Merchant_Rating  Merchant_Overall  Merchant_Probability  city_n  \\\n",
       "0  57.0              495              1311                   0.7    5832   \n",
       "1  38.0              495              1311                   0.7    1054   \n",
       "2  38.0              495              1311                   0.7      41   \n",
       "3  42.0              495              1311                   0.7     523   \n",
       "4  57.0              495              1311                   0.7    1913   \n",
       "\n",
       "   Kód kampaně_n  gender_n  Titul_n  Dokumenty_n  Stav_n  \\\n",
       "0              3         1       30            1       0   \n",
       "1              4         0       30            1       0   \n",
       "2              3         0       30            1       0   \n",
       "3              3         0       30            1       0   \n",
       "4             33         0       30            1       0   \n",
       "\n",
       "   Merchant_Is_Relevant_n  cluster  \n",
       "0                       1        1  \n",
       "1                       1        1  \n",
       "2                       1        1  \n",
       "3                       1        1  \n",
       "4                       1        3  "
      ]
     },
     "execution_count": 10,
     "metadata": {},
     "output_type": "execute_result"
    }
   ],
   "source": [
    "df['cluster'] = y_km\n",
    "df.head()"
   ]
  },
  {
   "cell_type": "markdown",
   "metadata": {},
   "source": [
    "# Slicing_df\n",
    "### 75% train to 25% test"
   ]
  },
  {
   "cell_type": "code",
   "execution_count": 11,
   "metadata": {},
   "outputs": [],
   "source": [
    "T = df.shape[0]\n",
    "split = int(T*0.75)\n",
    "train_df = df.iloc[:split]\n",
    "test_df = df.iloc[split:]"
   ]
  },
  {
   "cell_type": "markdown",
   "metadata": {},
   "source": [
    "## Preparing DF to fit in models\n"
   ]
  },
  {
   "cell_type": "code",
   "execution_count": 12,
   "metadata": {},
   "outputs": [],
   "source": [
    "X_train = train_df.loc[:, train_df.columns != 'Stav_n']\n",
    "y_train = train_df['Stav_n']#.values.reshape(-1,1)\n",
    "X_test = test_df.loc[:, test_df.columns != 'Stav_n']\n",
    "y_test = test_df['Stav_n']#.values.reshape(-1,1)"
   ]
  },
  {
   "cell_type": "markdown",
   "metadata": {},
   "source": [
    "## LogisticRegression - Classification problem\n"
   ]
  },
  {
   "cell_type": "code",
   "execution_count": 14,
   "metadata": {},
   "outputs": [
    {
     "name": "stderr",
     "output_type": "stream",
     "text": [
      "C:\\Users\\fandl\\Anaconda3\\lib\\site-packages\\sklearn\\linear_model\\logistic.py:432: FutureWarning: Default solver will be changed to 'lbfgs' in 0.22. Specify a solver to silence this warning.\n",
      "  FutureWarning)\n"
     ]
    }
   ],
   "source": [
    "from sklearn.linear_model import LogisticRegression\n",
    "from sklearn.metrics import confusion_matrix, roc_curve, roc_auc_score\n",
    "\n",
    "logreg = LogisticRegression()\n",
    "logreg_1 = logreg.fit(X_train, y_train)"
   ]
  },
  {
   "cell_type": "code",
   "execution_count": 12,
   "metadata": {},
   "outputs": [
    {
     "data": {
      "text/plain": [
       "0.6822406430545089"
      ]
     },
     "execution_count": 12,
     "metadata": {},
     "output_type": "execute_result"
    }
   ],
   "source": [
    "logreg_1.score(X_train, y_train)"
   ]
  },
  {
   "cell_type": "code",
   "execution_count": 28,
   "metadata": {},
   "outputs": [
    {
     "name": "stdout",
     "output_type": "stream",
     "text": [
      "Number of mislabeled points out of a total 6635 points : 1913\n",
      "71.16804822908817\n"
     ]
    }
   ],
   "source": [
    "pred_prob = logreg.predict_proba(X_test)\n",
    "pred_prob_log = logreg.predict_log_proba(X_test)\n",
    "y_hat = logreg.predict(X_test)\n",
    "print(\"Number of mislabeled points out of a total %d points : %d\"\n",
    "       % (X_test.shape[0], (y_test != y_hat).sum()))\n",
    "\n",
    "A = X_test.shape[0]\n",
    "B = (y_test != y_hat).sum()\n",
    "succes_rate = 100-B/A*100\n",
    "print(succes_rate)"
   ]
  },
  {
   "cell_type": "code",
   "execution_count": 39,
   "metadata": {},
   "outputs": [
    {
     "data": {
      "text/plain": [
       "1"
      ]
     },
     "execution_count": 39,
     "metadata": {},
     "output_type": "execute_result"
    }
   ],
   "source": [
    "y_hat[1]"
   ]
  },
  {
   "cell_type": "code",
   "execution_count": 30,
   "metadata": {},
   "outputs": [
    {
     "data": {
      "text/plain": [
       "array([0.21735901, 0.78264099])"
      ]
     },
     "execution_count": 30,
     "metadata": {},
     "output_type": "execute_result"
    }
   ],
   "source": [
    "pred_prob[30]"
   ]
  },
  {
   "cell_type": "code",
   "execution_count": 14,
   "metadata": {},
   "outputs": [
    {
     "data": {
      "text/plain": [
       "array([[3913,  239],\n",
       "       [1668,  815]], dtype=int64)"
      ]
     },
     "execution_count": 14,
     "metadata": {},
     "output_type": "execute_result"
    }
   ],
   "source": [
    "con_mat = confusion_matrix(y_test, y_hat)\n",
    "con_mat"
   ]
  },
  {
   "cell_type": "code",
   "execution_count": 93,
   "metadata": {},
   "outputs": [
    {
     "data": {
      "image/png": "[encoded data removed]",
      "text/plain": [
       "<Figure size 432x288 with 1 Axes>"
      ]
     },
     "metadata": {
      "needs_background": "light"
     },
     "output_type": "display_data"
    }
   ],
   "source": [
    "fpr, tpr, thresholds = roc_curve(y_test, pred_prob[:, 1], )\n",
    "\n",
    "plt.plot(fpr, tpr, label='ROC curve')\n",
    "plt.plot(np.linspace(0,1,100), np.linspace(0,1,100), label='random model')\n",
    "plt.legend()\n",
    "plt.show()"
   ]
  },
  {
   "cell_type": "code",
   "execution_count": 94,
   "metadata": {},
   "outputs": [
    {
     "data": {
      "text/plain": [
       "0.7542200256542175"
      ]
     },
     "execution_count": 94,
     "metadata": {},
     "output_type": "execute_result"
    }
   ],
   "source": [
    "roc_auc_score(y_test, pred_prob[:, 1])"
   ]
  },
  {
   "cell_type": "markdown",
   "metadata": {},
   "source": [
    "## GaussianNB"
   ]
  },
  {
   "cell_type": "code",
   "execution_count": 20,
   "metadata": {},
   "outputs": [
    {
     "name": "stdout",
     "output_type": "stream",
     "text": [
      "Number of mislabeled points out of a total 6635 points : 2143\n",
      "67.70158251695554\n"
     ]
    }
   ],
   "source": [
    "from sklearn.model_selection import train_test_split\n",
    "from sklearn.naive_bayes import GaussianNB\n",
    "from sklearn.metrics import confusion_matrix, roc_curve, roc_auc_score\n",
    "\n",
    "\n",
    "gnb = GaussianNB()\n",
    "Model_G = gnb.fit(X_train, y_train)\n",
    "y_pred_G = Model_G.predict(X_test)\n",
    "y_pred_proba_G = Model_G.predict_proba(X_test)\n",
    "\n",
    "\n",
    "print(\"Number of mislabeled points out of a total %d points : %d\"\n",
    "       % (X_test.shape[0], (y_test != y_pred_G).sum()))\n",
    "\n",
    "A = X_test.shape[0]\n",
    "B = (y_test != y_pred_G).sum()\n",
    "succes_rate = 100-B/A*100\n",
    "print(succes_rate)"
   ]
  },
  {
   "cell_type": "code",
   "execution_count": 97,
   "metadata": {},
   "outputs": [
    {
     "data": {
      "text/plain": [
       "0.6461693041949259"
      ]
     },
     "execution_count": 97,
     "metadata": {},
     "output_type": "execute_result"
    }
   ],
   "source": [
    "Model_G.score(X_train, y_train)"
   ]
  },
  {
   "cell_type": "code",
   "execution_count": 99,
   "metadata": {},
   "outputs": [
    {
     "data": {
      "text/plain": [
       "array([[3647,  505],\n",
       "       [1497,  986]], dtype=int64)"
      ]
     },
     "execution_count": 99,
     "metadata": {},
     "output_type": "execute_result"
    }
   ],
   "source": [
    "con_mat = confusion_matrix(y_test, y_pred_G)\n",
    "con_mat"
   ]
  },
  {
   "cell_type": "code",
   "execution_count": 100,
   "metadata": {},
   "outputs": [
    {
     "data": {
      "image/png": "[encoded data removed]",
      "text/plain": [
       "<Figure size 432x288 with 1 Axes>"
      ]
     },
     "metadata": {
      "needs_background": "light"
     },
     "output_type": "display_data"
    }
   ],
   "source": [
    "fpr, tpr, thresholds = roc_curve(y_test, y_pred_proba_G[:, 1], )\n",
    "\n",
    "plt.plot(fpr, tpr, label='ROC curve')\n",
    "plt.plot(np.linspace(0,1,100), np.linspace(0,1,100), label='random model')\n",
    "plt.legend()\n",
    "plt.show()"
   ]
  },
  {
   "cell_type": "code",
   "execution_count": 101,
   "metadata": {},
   "outputs": [
    {
     "data": {
      "text/plain": [
       "0.6962247910065905"
      ]
     },
     "execution_count": 101,
     "metadata": {},
     "output_type": "execute_result"
    }
   ],
   "source": [
    "roc_auc_score(y_test, y_pred_proba_G[:, 1])"
   ]
  },
  {
   "cell_type": "markdown",
   "metadata": {},
   "source": [
    "## Decision tree"
   ]
  },
  {
   "cell_type": "code",
   "execution_count": 22,
   "metadata": {},
   "outputs": [
    {
     "name": "stdout",
     "output_type": "stream",
     "text": [
      "Number of mislabeled points out of a total 6635 points : 2061\n",
      "68.93745290128109\n"
     ]
    }
   ],
   "source": [
    "from sklearn import tree\n",
    "model_T = tree.DecisionTreeClassifier()\n",
    "model_T = model_T.fit(X_train, y_train)\n",
    "y_predict_tree = model_T.predict(X_test)\n",
    "predict_proba_tree = model_T.predict_proba(X_test)\n",
    "\n",
    "print(\"Number of mislabeled points out of a total %d points : %d\"\n",
    "       % (X_test.shape[0], (y_test != y_predict_tree).sum()))\n",
    "\n",
    "A = X_test.shape[0]\n",
    "B = (y_test != y_predict_tree).sum()\n",
    "succes_rate = 100-B/A*100\n",
    "print(succes_rate)"
   ]
  },
  {
   "cell_type": "code",
   "execution_count": 21,
   "metadata": {},
   "outputs": [
    {
     "data": {
      "text/plain": [
       "array([[3248,  904],\n",
       "       [1144, 1339]], dtype=int64)"
      ]
     },
     "execution_count": 21,
     "metadata": {},
     "output_type": "execute_result"
    }
   ],
   "source": [
    "confusion_matrix(y_test, y_predict_tree)"
   ]
  },
  {
   "cell_type": "code",
   "execution_count": 23,
   "metadata": {},
   "outputs": [
    {
     "data": {
      "text/plain": [
       "1"
      ]
     },
     "execution_count": 23,
     "metadata": {},
     "output_type": "execute_result"
    }
   ],
   "source": [
    "y_predict_tree[0]"
   ]
  },
  {
   "cell_type": "code",
   "execution_count": 25,
   "metadata": {},
   "outputs": [
    {
     "data": {
      "text/plain": [
       "array([0., 1.])"
      ]
     },
     "execution_count": 25,
     "metadata": {},
     "output_type": "execute_result"
    }
   ],
   "source": [
    "predict_proba_tree[2]"
   ]
  },
  {
   "cell_type": "code",
   "execution_count": 70,
   "metadata": {},
   "outputs": [
    {
     "data": {
      "text/plain": [
       "0.9806581260989701"
      ]
     },
     "execution_count": 70,
     "metadata": {},
     "output_type": "execute_result"
    }
   ],
   "source": [
    "model_T.score(X_train, y_train)"
   ]
  },
  {
   "cell_type": "markdown",
   "metadata": {},
   "source": [
    "## Time_line_models"
   ]
  },
  {
   "cell_type": "code",
   "execution_count": 17,
   "metadata": {},
   "outputs": [
    {
     "name": "stderr",
     "output_type": "stream",
     "text": [
      "C:\\Users\\fandl\\Anaconda3\\lib\\site-packages\\IPython\\core\\interactiveshell.py:3058: DtypeWarning: Columns (47,50) have mixed types. Specify dtype option on import or set low_memory=False.\n",
      "  interactivity=interactivity, compiler=compiler, result=result)\n"
     ]
    },
    {
     "data": {
      "text/plain": [
       "(27106, 61)"
      ]
     },
     "execution_count": 17,
     "metadata": {},
     "output_type": "execute_result"
    }
   ],
   "source": [
    "#loading DF\n",
    "df_all = pd.read_csv('intersat_final_df.csv')\n",
    "make_timestamp(df_all)\n",
    "# df_all.columns\n",
    "df_all.shape"
   ]
  },
  {
   "cell_type": "code",
   "execution_count": 18,
   "metadata": {},
   "outputs": [
    {
     "name": "stderr",
     "output_type": "stream",
     "text": [
      "C:\\Users\\fandl\\Anaconda3\\lib\\site-packages\\pandas\\plotting\\_matplotlib\\converter.py:103: FutureWarning: Using an implicitly registered datetime converter for a matplotlib plotting method. The converter was registered by pandas on import. Future versions of pandas will require you to explicitly register matplotlib converters.\n",
      "\n",
      "To register the converters:\n",
      "\t>>> from pandas.plotting import register_matplotlib_converters\n",
      "\t>>> register_matplotlib_converters()\n",
      "  warnings.warn(msg, FutureWarning)\n"
     ]
    },
    {
     "data": {
      "image/png": "[encoded data removed]",
      "text/plain": [
       "<Figure size 1080x432 with 1 Axes>"
      ]
     },
     "metadata": {
      "needs_background": "light"
     },
     "output_type": "display_data"
    }
   ],
   "source": [
    "dfA = df_all\n",
    "#FLYER\n",
    "Overview_of_sales = dfA.loc[(dfA['Stav'] == 'Ukončeno FLYER' )]\n",
    "#key is difrent column that previus \"ukon4eno FLYER\"\n",
    "Overview_of_sales = Overview_of_sales.groupby(pd.Grouper(key='Ukončeno FLYER', freq=\"m\")).count()\n",
    "#slicing misstakes of merchants\n",
    "Overview_of_sales = Overview_of_sales['Stav'][35:-1]\n",
    "Emergency_date = pd.to_datetime('2020-03-12')\n",
    "\n",
    "#making DF for linear regresion \n",
    "df_OS = Overview_of_sales.to_frame()\n",
    "\n",
    "# df_OS['months_from_start'] = (df_OS.index - df_OS.index[0]).days/30; df_OS \n",
    "# df_OS = df_OS.round(0)\n",
    "\n",
    "fig, ax = plt.subplots(figsize=(15, 6))\n",
    "# figure(num=None, figsize=(15, 6), dpi=80, facecolor='w', edgecolor='k')\n",
    "\n",
    "Overview_of_cancled = dfA.loc[(dfA['Stav'] == 'Zrušen' )].groupby(pd.Grouper(key='Zrušeno', freq=\"M\")).count()\n",
    "Overview_of_cancled = Overview_of_cancled['Stav'][:-1]\n",
    "df_CO = Overview_of_cancled.to_frame()\n",
    "plt.plot(Overview_of_sales, c='g', label='FLYER',)\n",
    "plt.plot(Overview_of_cancled, c='r',label='Zrušeno')\n",
    "ax.axvline(Emergency_date, color='k', label=Emergency_date.date(), ls='dashed', alpha=0.6)\n",
    "plt.grid()\n",
    "plt.legend()\n",
    "df_all_merge = pd.merge(df_OS, df_CO, left_index=True, right_index=True)\n",
    "df_all_merge = df_all_merge.rename(columns={\"Stav_x\": \"FLAYER Absolute\",\"Stav_y\": \"Zrušeno Absolute\"})"
   ]
  },
  {
   "cell_type": "code",
   "execution_count": 19,
   "metadata": {},
   "outputs": [
    {
     "data": {
      "text/html": [
       "<div>\n",
       "<style scoped>\n",
       "    .dataframe tbody tr th:only-of-type {\n",
       "        vertical-align: middle;\n",
       "    }\n",
       "\n",
       "    .dataframe tbody tr th {\n",
       "        vertical-align: top;\n",
       "    }\n",
       "\n",
       "    .dataframe thead th {\n",
       "        text-align: right;\n",
       "    }\n",
       "</style>\n",
       "<table border=\"1\" class=\"dataframe\">\n",
       "  <thead>\n",
       "    <tr style=\"text-align: right;\">\n",
       "      <th></th>\n",
       "      <th>ds</th>\n",
       "      <th>y</th>\n",
       "    </tr>\n",
       "  </thead>\n",
       "  <tbody>\n",
       "    <tr>\n",
       "      <td>0</td>\n",
       "      <td>2016-12-31</td>\n",
       "      <td>10</td>\n",
       "    </tr>\n",
       "    <tr>\n",
       "      <td>1</td>\n",
       "      <td>2017-01-31</td>\n",
       "      <td>109</td>\n",
       "    </tr>\n",
       "    <tr>\n",
       "      <td>2</td>\n",
       "      <td>2017-02-28</td>\n",
       "      <td>111</td>\n",
       "    </tr>\n",
       "    <tr>\n",
       "      <td>3</td>\n",
       "      <td>2017-03-31</td>\n",
       "      <td>123</td>\n",
       "    </tr>\n",
       "    <tr>\n",
       "      <td>4</td>\n",
       "      <td>2017-04-30</td>\n",
       "      <td>49</td>\n",
       "    </tr>\n",
       "    <tr>\n",
       "      <td>5</td>\n",
       "      <td>2017-05-31</td>\n",
       "      <td>76</td>\n",
       "    </tr>\n",
       "    <tr>\n",
       "      <td>6</td>\n",
       "      <td>2017-06-30</td>\n",
       "      <td>112</td>\n",
       "    </tr>\n",
       "    <tr>\n",
       "      <td>7</td>\n",
       "      <td>2017-07-31</td>\n",
       "      <td>83</td>\n",
       "    </tr>\n",
       "    <tr>\n",
       "      <td>8</td>\n",
       "      <td>2017-08-31</td>\n",
       "      <td>120</td>\n",
       "    </tr>\n",
       "    <tr>\n",
       "      <td>9</td>\n",
       "      <td>2017-09-30</td>\n",
       "      <td>145</td>\n",
       "    </tr>\n",
       "    <tr>\n",
       "      <td>10</td>\n",
       "      <td>2017-10-31</td>\n",
       "      <td>252</td>\n",
       "    </tr>\n",
       "    <tr>\n",
       "      <td>11</td>\n",
       "      <td>2017-11-30</td>\n",
       "      <td>471</td>\n",
       "    </tr>\n",
       "    <tr>\n",
       "      <td>12</td>\n",
       "      <td>2017-12-31</td>\n",
       "      <td>420</td>\n",
       "    </tr>\n",
       "    <tr>\n",
       "      <td>13</td>\n",
       "      <td>2018-01-31</td>\n",
       "      <td>423</td>\n",
       "    </tr>\n",
       "    <tr>\n",
       "      <td>14</td>\n",
       "      <td>2018-02-28</td>\n",
       "      <td>465</td>\n",
       "    </tr>\n",
       "    <tr>\n",
       "      <td>15</td>\n",
       "      <td>2018-03-31</td>\n",
       "      <td>509</td>\n",
       "    </tr>\n",
       "    <tr>\n",
       "      <td>16</td>\n",
       "      <td>2018-04-30</td>\n",
       "      <td>540</td>\n",
       "    </tr>\n",
       "    <tr>\n",
       "      <td>17</td>\n",
       "      <td>2018-05-31</td>\n",
       "      <td>563</td>\n",
       "    </tr>\n",
       "    <tr>\n",
       "      <td>18</td>\n",
       "      <td>2018-06-30</td>\n",
       "      <td>446</td>\n",
       "    </tr>\n",
       "    <tr>\n",
       "      <td>19</td>\n",
       "      <td>2018-07-31</td>\n",
       "      <td>380</td>\n",
       "    </tr>\n",
       "    <tr>\n",
       "      <td>20</td>\n",
       "      <td>2018-08-31</td>\n",
       "      <td>465</td>\n",
       "    </tr>\n",
       "    <tr>\n",
       "      <td>21</td>\n",
       "      <td>2018-09-30</td>\n",
       "      <td>557</td>\n",
       "    </tr>\n",
       "    <tr>\n",
       "      <td>22</td>\n",
       "      <td>2018-10-31</td>\n",
       "      <td>1898</td>\n",
       "    </tr>\n",
       "    <tr>\n",
       "      <td>23</td>\n",
       "      <td>2018-11-30</td>\n",
       "      <td>976</td>\n",
       "    </tr>\n",
       "    <tr>\n",
       "      <td>24</td>\n",
       "      <td>2018-12-31</td>\n",
       "      <td>399</td>\n",
       "    </tr>\n",
       "    <tr>\n",
       "      <td>25</td>\n",
       "      <td>2019-01-31</td>\n",
       "      <td>312</td>\n",
       "    </tr>\n",
       "    <tr>\n",
       "      <td>26</td>\n",
       "      <td>2019-02-28</td>\n",
       "      <td>365</td>\n",
       "    </tr>\n",
       "    <tr>\n",
       "      <td>27</td>\n",
       "      <td>2019-03-31</td>\n",
       "      <td>428</td>\n",
       "    </tr>\n",
       "    <tr>\n",
       "      <td>28</td>\n",
       "      <td>2019-04-30</td>\n",
       "      <td>402</td>\n",
       "    </tr>\n",
       "    <tr>\n",
       "      <td>29</td>\n",
       "      <td>2019-05-31</td>\n",
       "      <td>345</td>\n",
       "    </tr>\n",
       "    <tr>\n",
       "      <td>30</td>\n",
       "      <td>2019-06-30</td>\n",
       "      <td>274</td>\n",
       "    </tr>\n",
       "    <tr>\n",
       "      <td>31</td>\n",
       "      <td>2019-07-31</td>\n",
       "      <td>288</td>\n",
       "    </tr>\n",
       "    <tr>\n",
       "      <td>32</td>\n",
       "      <td>2019-08-31</td>\n",
       "      <td>289</td>\n",
       "    </tr>\n",
       "    <tr>\n",
       "      <td>33</td>\n",
       "      <td>2019-09-30</td>\n",
       "      <td>143</td>\n",
       "    </tr>\n",
       "    <tr>\n",
       "      <td>34</td>\n",
       "      <td>2019-10-31</td>\n",
       "      <td>170</td>\n",
       "    </tr>\n",
       "    <tr>\n",
       "      <td>35</td>\n",
       "      <td>2019-11-30</td>\n",
       "      <td>160</td>\n",
       "    </tr>\n",
       "    <tr>\n",
       "      <td>36</td>\n",
       "      <td>2019-12-31</td>\n",
       "      <td>358</td>\n",
       "    </tr>\n",
       "    <tr>\n",
       "      <td>37</td>\n",
       "      <td>2020-01-31</td>\n",
       "      <td>258</td>\n",
       "    </tr>\n",
       "    <tr>\n",
       "      <td>38</td>\n",
       "      <td>2020-02-29</td>\n",
       "      <td>229</td>\n",
       "    </tr>\n",
       "    <tr>\n",
       "      <td>39</td>\n",
       "      <td>2020-03-31</td>\n",
       "      <td>403</td>\n",
       "    </tr>\n",
       "    <tr>\n",
       "      <td>40</td>\n",
       "      <td>2020-04-30</td>\n",
       "      <td>485</td>\n",
       "    </tr>\n",
       "    <tr>\n",
       "      <td>41</td>\n",
       "      <td>2020-05-31</td>\n",
       "      <td>580</td>\n",
       "    </tr>\n",
       "    <tr>\n",
       "      <td>42</td>\n",
       "      <td>2020-06-30</td>\n",
       "      <td>637</td>\n",
       "    </tr>\n",
       "  </tbody>\n",
       "</table>\n",
       "</div>"
      ],
      "text/plain": [
       "           ds     y\n",
       "0  2016-12-31    10\n",
       "1  2017-01-31   109\n",
       "2  2017-02-28   111\n",
       "3  2017-03-31   123\n",
       "4  2017-04-30    49\n",
       "5  2017-05-31    76\n",
       "6  2017-06-30   112\n",
       "7  2017-07-31    83\n",
       "8  2017-08-31   120\n",
       "9  2017-09-30   145\n",
       "10 2017-10-31   252\n",
       "11 2017-11-30   471\n",
       "12 2017-12-31   420\n",
       "13 2018-01-31   423\n",
       "14 2018-02-28   465\n",
       "15 2018-03-31   509\n",
       "16 2018-04-30   540\n",
       "17 2018-05-31   563\n",
       "18 2018-06-30   446\n",
       "19 2018-07-31   380\n",
       "20 2018-08-31   465\n",
       "21 2018-09-30   557\n",
       "22 2018-10-31  1898\n",
       "23 2018-11-30   976\n",
       "24 2018-12-31   399\n",
       "25 2019-01-31   312\n",
       "26 2019-02-28   365\n",
       "27 2019-03-31   428\n",
       "28 2019-04-30   402\n",
       "29 2019-05-31   345\n",
       "30 2019-06-30   274\n",
       "31 2019-07-31   288\n",
       "32 2019-08-31   289\n",
       "33 2019-09-30   143\n",
       "34 2019-10-31   170\n",
       "35 2019-11-30   160\n",
       "36 2019-12-31   358\n",
       "37 2020-01-31   258\n",
       "38 2020-02-29   229\n",
       "39 2020-03-31   403\n",
       "40 2020-04-30   485\n",
       "41 2020-05-31   580\n",
       "42 2020-06-30   637"
      ]
     },
     "execution_count": 19,
     "metadata": {},
     "output_type": "execute_result"
    }
   ],
   "source": [
    "df_OS = df_OS.reset_index()\n",
    "df_OS = df_OS.rename(columns={\"Stav\": \"y\",\"Ukončeno FLYER\": \"ds\"})\n",
    "df_OS"
   ]
  },
  {
   "cell_type": "code",
   "execution_count": 21,
   "metadata": {},
   "outputs": [],
   "source": [
    "from statsmodels.tsa.statespace.sarimax import SARIMAX\n",
    "\n",
    "mod = SARIMAX(df_OS['y'], \n",
    "              seorder=(1,1,1),\n",
    "              trend='c'\n",
    "             )\n",
    "fit_mod = mod.fit()\n"
   ]
  },
  {
   "cell_type": "code",
   "execution_count": 24,
   "metadata": {},
   "outputs": [
    {
     "data": {
      "image/png": "[encoded data removed]",
      "text/plain": [
       "<Figure size 864x288 with 1 Axes>"
      ]
     },
     "metadata": {
      "needs_background": "light"
     },
     "output_type": "display_data"
    }
   ],
   "source": [
    "preds = fit_mod.predict(start=df_OS.index[15],\n",
    "                    end=df_OS.index[-1]+20,\n",
    "                    )\n",
    "preds = preds[10:]\n",
    "fig, ax = plt.subplots(figsize=(12,4))\n",
    "df_OS['y'].plot(ax=ax)\n",
    "# test_df['y'].plot(ax=ax)\n",
    "preds.plot(ax=ax, grid=True)\n",
    "# plt.axvline(split_date, c='k', linestyle='dashed')\n",
    "plt.show()"
   ]
  },
  {
   "cell_type": "code",
   "execution_count": 58,
   "metadata": {},
   "outputs": [
    {
     "name": "stderr",
     "output_type": "stream",
     "text": [
      "INFO:numexpr.utils:NumExpr defaulting to 4 threads.\n",
      "INFO:fbprophet:Disabling weekly seasonality. Run prophet with weekly_seasonality=True to override this.\n",
      "INFO:fbprophet:Disabling daily seasonality. Run prophet with daily_seasonality=True to override this.\n"
     ]
    },
    {
     "data": {
      "text/plain": [
       "[<matplotlib.lines.Line2D at 0x1bb87119e88>]"
      ]
     },
     "execution_count": 58,
     "metadata": {},
     "output_type": "execute_result"
    },
    {
     "data": {
      "image/png": "[encoded data removed]",
      "text/plain": [
       "<Figure size 720x288 with 1 Axes>"
      ]
     },
     "metadata": {},
     "output_type": "display_data"
    }
   ],
   "source": [
    "from fbprophet import Prophet\n",
    "m = Prophet(seasonality_mode='multiplicative')\n",
    "m.fit(df_OS)\n",
    "future = m.make_future_dataframe( periods=12, freq='M')\n",
    "forecast = m.predict(future)\n",
    "fig = m.plot(forecast)\n",
    "fig.set_size_inches(10,4)\n",
    "plt.plot(Overview_of_sales, c='g', label='FLYER',)\n"
   ]
  },
  {
   "cell_type": "code",
   "execution_count": null,
   "metadata": {},
   "outputs": [],
   "source": []
  }
 ],
 "metadata": {
  "kernelspec": {
   "display_name": "Python 3",
   "language": "python",
   "name": "python3"
  },
  "language_info": {
   "codemirror_mode": {
    "name": "ipython",
    "version": 3
   },
   "file_extension": ".py",
   "mimetype": "text/x-python",
   "name": "python",
   "nbconvert_exporter": "python",
   "pygments_lexer": "ipython3",
   "version": "3.7.4"
  }
 },
 "nbformat": 4,
 "nbformat_minor": 4
}
